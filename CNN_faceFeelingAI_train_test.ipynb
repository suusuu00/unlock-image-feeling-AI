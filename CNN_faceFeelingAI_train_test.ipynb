{
 "cells": [
  {
   "cell_type": "markdown",
   "metadata": {
    "id": "3DR-eO17geWu"
   },
   "source": [
    "# Convolutional Neural Network"
   ]
  },
  {
   "cell_type": "markdown",
   "metadata": {
    "id": "EMefrVPCg-60"
   },
   "source": [
    "### Importing the libraries"
   ]
  },
  {
   "cell_type": "code",
   "execution_count": 1,
   "metadata": {
    "id": "sCV30xyVhFbE"
   },
   "outputs": [],
   "source": [
    "import tensorflow as tf\n",
    "from keras.preprocessing.image import ImageDataGenerator"
   ]
  },
  {
   "cell_type": "code",
   "execution_count": 2,
   "metadata": {
    "colab": {
     "base_uri": "https://localhost:8080/",
     "height": 35
    },
    "executionInfo": {
     "elapsed": 335,
     "status": "ok",
     "timestamp": 1680512902576,
     "user": {
      "displayName": "조선아",
      "userId": "01059685246741946043"
     },
     "user_tz": -540
    },
    "id": "FIleuCAjoFD8",
    "outputId": "d207f666-7266-4be0-a2bc-0d64075d280d"
   },
   "outputs": [
    {
     "data": {
      "text/plain": [
       "'2.9.0'"
      ]
     },
     "execution_count": 2,
     "metadata": {},
     "output_type": "execute_result"
    }
   ],
   "source": [
    "tf.__version__"
   ]
  },
  {
   "cell_type": "code",
   "execution_count": 3,
   "metadata": {},
   "outputs": [
    {
     "name": "stdout",
     "output_type": "stream",
     "text": [
      "Num GPUs Available:  1\n"
     ]
    }
   ],
   "source": [
    "import tensorflow as tf\n",
    "print(\"Num GPUs Available: \", len(tf.config.experimental.list_physical_devices('GPU')))"
   ]
  },
  {
   "cell_type": "code",
   "execution_count": 4,
   "metadata": {
    "scrolled": true
   },
   "outputs": [
    {
     "name": "stdout",
     "output_type": "stream",
     "text": [
      "Metal device set to: Apple M1\n"
     ]
    },
    {
     "data": {
      "text/plain": [
       "[name: \"/device:CPU:0\"\n",
       " device_type: \"CPU\"\n",
       " memory_limit: 268435456\n",
       " locality {\n",
       " }\n",
       " incarnation: 13421710772952175365\n",
       " xla_global_id: -1,\n",
       " name: \"/device:GPU:0\"\n",
       " device_type: \"GPU\"\n",
       " locality {\n",
       "   bus_id: 1\n",
       " }\n",
       " incarnation: 13630640911828960558\n",
       " physical_device_desc: \"device: 0, name: METAL, pci bus id: <undefined>\"\n",
       " xla_global_id: -1]"
      ]
     },
     "execution_count": 4,
     "metadata": {},
     "output_type": "execute_result"
    }
   ],
   "source": [
    "from tensorflow.python.client import device_lib\n",
    "device_lib.list_local_devices()"
   ]
  },
  {
   "cell_type": "markdown",
   "metadata": {
    "id": "oxQxCBWyoGPE"
   },
   "source": [
    "## Part 1 - Data Preprocessing (데이터 전처리)"
   ]
  },
  {
   "cell_type": "markdown",
   "metadata": {
    "id": "MvE-heJNo3GG"
   },
   "source": [
    "### Preprocessing the Training set"
   ]
  },
  {
   "cell_type": "markdown",
   "metadata": {},
   "source": [
    "- 한 번에 훈련하면 중간에 오류나고 느려서 6개로 폴더 나눠서 가져옴\n",
    "- 정확도가 너무 안 나와서 7가지 감정 중 불안과 상처를 제외하고 훈련"
   ]
  },
  {
   "cell_type": "code",
   "execution_count": 24,
   "metadata": {},
   "outputs": [
    {
     "name": "stdout",
     "output_type": "stream",
     "text": [
      "Found 4248 images belonging to 5 classes.\n",
      "Found 4250 images belonging to 5 classes.\n",
      "Found 4266 images belonging to 5 classes.\n",
      "Found 4245 images belonging to 5 classes.\n",
      "Found 4250 images belonging to 5 classes.\n",
      "Found 4250 images belonging to 5 classes.\n"
     ]
    }
   ],
   "source": [
    "train_datagen = ImageDataGenerator(rescale = 1./255,\n",
    "                                   shear_range = 0.2,\n",
    "                                   zoom_range = 0.2,\n",
    "                                   rotation_range = 7,\n",
    "                                  horizontal_flip=True)\n",
    "\n",
    "training_set_list = []\n",
    "for i in range(1, 7):\n",
    "    training_set2 = train_datagen.flow_from_directory('한국인 감정인식을 위한 복합 영상/Training' + str(i),\n",
    "                                                     target_size = (64, 64),\n",
    "                                                     batch_size = 7,\n",
    "                                                     class_mode = 'categorical',\n",
    "                                                     #shuffle=True,\n",
    "                                                     subset='training')\n",
    "    training_set_list.append(training_set2)"
   ]
  },
  {
   "cell_type": "code",
   "execution_count": 6,
   "metadata": {},
   "outputs": [
    {
     "name": "stdout",
     "output_type": "stream",
     "text": [
      "(array([0, 1, 2, 3, 4], dtype=int32), array([849, 850, 850, 849, 850]))\n",
      "(array([0, 1, 2, 3, 4], dtype=int32), array([850, 850, 850, 850, 850]))\n",
      "(array([0, 1, 2, 3, 4], dtype=int32), array([868, 850, 850, 849, 849]))\n",
      "(array([0, 1, 2, 3, 4], dtype=int32), array([846, 850, 849, 850, 850]))\n",
      "(array([0, 1, 2, 3, 4], dtype=int32), array([850, 850, 850, 850, 850]))\n",
      "(array([0, 1, 2, 3, 4], dtype=int32), array([850, 850, 850, 850, 850]))\n"
     ]
    }
   ],
   "source": [
    "import numpy as np\n",
    "\n",
    "for i in range(6):\n",
    "    print(np.unique(training_set_list[i].classes, return_counts=True))"
   ]
  },
  {
   "cell_type": "code",
   "execution_count": 7,
   "metadata": {},
   "outputs": [
    {
     "name": "stdout",
     "output_type": "stream",
     "text": [
      "{'기쁨': 0, '당황': 1, '분노': 2, '슬픔': 3, '중립': 4}\n",
      "{'기쁨': 0, '당황': 1, '분노': 2, '슬픔': 3, '중립': 4}\n",
      "{'기쁨': 0, '당황': 1, '분노': 2, '슬픔': 3, '중립': 4}\n",
      "{'기쁨': 0, '당황': 1, '분노': 2, '슬픔': 3, '중립': 4}\n",
      "{'기쁨': 0, '당황': 1, '분노': 2, '슬픔': 3, '중립': 4}\n",
      "{'기쁨': 0, '당황': 1, '분노': 2, '슬픔': 3, '중립': 4}\n"
     ]
    }
   ],
   "source": [
    "for i in range(6):\n",
    "    print(training_set_list[i].class_indices)"
   ]
  },
  {
   "cell_type": "markdown",
   "metadata": {
    "id": "mrCMmGw9pHys"
   },
   "source": [
    "### Preprocessing the Test set"
   ]
  },
  {
   "cell_type": "code",
   "execution_count": 69,
   "metadata": {
    "colab": {
     "base_uri": "https://localhost:8080/"
    },
    "id": "SH4WzfOhpKc3",
    "outputId": "58f0b097-77ce-4261-9f0a-0ccd0f6bc2f9"
   },
   "outputs": [
    {
     "name": "stdout",
     "output_type": "stream",
     "text": [
      "Found 4000 images belonging to 5 classes.\n"
     ]
    }
   ],
   "source": [
    "# 이미지 증강 도구를 쓰지 않음 / 원본처럼 온전하게 유지 대신 픽셀의 크기는 조정\n",
    "test_datagen = ImageDataGenerator(rescale = 1./255)\n",
    "test_set = test_datagen.flow_from_directory('한국인 감정인식을 위한 복합 영상/Valid',\n",
    "                                            target_size = (64, 64),\n",
    "                                            batch_size = 1,\n",
    "                                            class_mode = 'categorical',\n",
    "                                            #subset=\"validation\",\n",
    "                                            shuffle=False)"
   ]
  },
  {
   "cell_type": "markdown",
   "metadata": {
    "id": "af8O4l90gk7B"
   },
   "source": [
    "## Part 2 - Building the CNN"
   ]
  },
  {
   "cell_type": "markdown",
   "metadata": {
    "id": "ces1gXY2lmoX"
   },
   "source": [
    "### Initialising the CNN"
   ]
  },
  {
   "cell_type": "code",
   "execution_count": 9,
   "metadata": {
    "id": "SAUt4UMPlhLS"
   },
   "outputs": [],
   "source": [
    "cnn = tf.keras.models.Sequential()"
   ]
  },
  {
   "cell_type": "markdown",
   "metadata": {
    "id": "u5YJj_XMl5LF"
   },
   "source": [
    "### Step 1 - Convolution"
   ]
  },
  {
   "cell_type": "code",
   "execution_count": 10,
   "metadata": {
    "id": "XPzPrMckl-hV"
   },
   "outputs": [],
   "source": [
    "# 컨볼루션 레이어 필터 32개\n",
    "# kernel_size 3x3 차원\n",
    "# 활성화 함수 : 정류화 (relu)\n",
    "# 이미지 크기 64, 64 / 색깔 컬러(3), 흑백(1)\n",
    "cnn.add(tf.keras.layers.Conv2D(filters=32, kernel_size=3,\n",
    "                               activation='relu', input_shape=(64, 64, 3)))\n",
    "cnn.add(tf.keras.layers.BatchNormalization())"
   ]
  },
  {
   "cell_type": "code",
   "execution_count": 11,
   "metadata": {
    "id": "-RRApm_QR_4v"
   },
   "outputs": [],
   "source": [
    "cnn.add(tf.keras.layers.Conv2D(filters=32, kernel_size=3, activation='relu'))\n",
    "cnn.add(tf.keras.layers.BatchNormalization())"
   ]
  },
  {
   "cell_type": "markdown",
   "metadata": {
    "id": "tf87FpvxmNOJ"
   },
   "source": [
    "### Step 2 - Pooling"
   ]
  },
  {
   "cell_type": "code",
   "execution_count": 12,
   "metadata": {
    "id": "ncpqPl69mOac"
   },
   "outputs": [],
   "source": [
    "# 풀링 프레임 사이즈 2x2\n",
    "# 이동할 픽셀 수 : 2\n",
    "cnn.add(tf.keras.layers.MaxPool2D(pool_size=2, strides=2))\n",
    "cnn.add(tf.keras.layers.Dropout(0.2)) # 과적합일 때 씀"
   ]
  },
  {
   "cell_type": "markdown",
   "metadata": {
    "id": "xaTOgD8rm4mU"
   },
   "source": [
    "### Adding a second convolutional layer"
   ]
  },
  {
   "cell_type": "code",
   "execution_count": 13,
   "metadata": {
    "id": "i_-FZjn_m8gk"
   },
   "outputs": [],
   "source": [
    "# 처음으로 추가할 때만 input_size 필요함\n",
    "cnn.add(tf.keras.layers.Conv2D(filters=64, kernel_size=3, activation='relu'))\n",
    "cnn.add(tf.keras.layers.BatchNormalization())\n",
    "cnn.add(tf.keras.layers.Conv2D(filters=64, kernel_size=3, activation='relu'))\n",
    "cnn.add(tf.keras.layers.BatchNormalization())\n",
    "cnn.add(tf.keras.layers.MaxPool2D(pool_size=2, strides=2))\n",
    "cnn.add(tf.keras.layers.Dropout(0.2))"
   ]
  },
  {
   "cell_type": "markdown",
   "metadata": {
    "id": "uF_hYavFR_4v"
   },
   "source": [
    "### Adding a third convolutional layer"
   ]
  },
  {
   "cell_type": "code",
   "execution_count": 14,
   "metadata": {
    "id": "ANYOefo7R_4v"
   },
   "outputs": [],
   "source": [
    "cnn.add(tf.keras.layers.Conv2D(filters=128, kernel_size=3, activation='relu'))\n",
    "cnn.add(tf.keras.layers.BatchNormalization())\n",
    "cnn.add(tf.keras.layers.Conv2D(filters=128, kernel_size=3, activation='relu'))\n",
    "cnn.add(tf.keras.layers.BatchNormalization())\n",
    "cnn.add(tf.keras.layers.MaxPool2D(pool_size=2, strides=2))\n",
    "cnn.add(tf.keras.layers.Dropout(0.2))"
   ]
  },
  {
   "cell_type": "markdown",
   "metadata": {
    "id": "tmiEuvTunKfk"
   },
   "source": [
    "### Step 3 - Flattening"
   ]
  },
  {
   "cell_type": "code",
   "execution_count": 15,
   "metadata": {
    "id": "6AZeOGCvnNZn"
   },
   "outputs": [],
   "source": [
    "# 1차원 벡터 값으로 펼치기\n",
    "cnn.add(tf.keras.layers.Flatten())"
   ]
  },
  {
   "cell_type": "markdown",
   "metadata": {
    "id": "dAoSECOm203v"
   },
   "source": [
    "### Step 4 - Full Connection"
   ]
  },
  {
   "cell_type": "code",
   "execution_count": 16,
   "metadata": {
    "id": "8GtmUlLd26Nq"
   },
   "outputs": [],
   "source": [
    "# 뉴런 개수 : 64\n",
    "cnn.add(tf.keras.layers.Dense(units=64, activation='relu'))\n",
    "cnn.add(tf.keras.layers.BatchNormalization())\n",
    "#cnn.add(tf.keras.layers.Dropout(0.2))"
   ]
  },
  {
   "cell_type": "code",
   "execution_count": 17,
   "metadata": {
    "id": "6O6sb4yfR_4w"
   },
   "outputs": [],
   "source": [
    "cnn.add(tf.keras.layers.Dense(units=64, activation='relu'))\n",
    "cnn.add(tf.keras.layers.BatchNormalization())\n",
    "#cnn.add(tf.keras.layers.Dropout(0.2))"
   ]
  },
  {
   "cell_type": "markdown",
   "metadata": {
    "id": "yTldFvbX28Na"
   },
   "source": [
    "### Step 5 - Output Layer"
   ]
  },
  {
   "cell_type": "code",
   "execution_count": 18,
   "metadata": {
    "id": "1p_Zj1Mc3Ko_"
   },
   "outputs": [],
   "source": [
    "cnn.add(tf.keras.layers.Dense(units=5, activation='softmax'))"
   ]
  },
  {
   "cell_type": "code",
   "execution_count": 19,
   "metadata": {
    "collapsed": true,
    "id": "y3ogHB0ZR_4w"
   },
   "outputs": [
    {
     "name": "stdout",
     "output_type": "stream",
     "text": [
      "Model: \"sequential_1\"\n",
      "_________________________________________________________________\n",
      " Layer (type)                Output Shape              Param #   \n",
      "=================================================================\n",
      " conv2d (Conv2D)             (None, 62, 62, 32)        896       \n",
      "                                                                 \n",
      " batch_normalization (BatchN  (None, 62, 62, 32)       128       \n",
      " ormalization)                                                   \n",
      "                                                                 \n",
      " conv2d_1 (Conv2D)           (None, 60, 60, 32)        9248      \n",
      "                                                                 \n",
      " batch_normalization_1 (Batc  (None, 60, 60, 32)       128       \n",
      " hNormalization)                                                 \n",
      "                                                                 \n",
      " max_pooling2d (MaxPooling2D  (None, 30, 30, 32)       0         \n",
      " )                                                               \n",
      "                                                                 \n",
      " conv2d_2 (Conv2D)           (None, 28, 28, 64)        18496     \n",
      "                                                                 \n",
      " batch_normalization_2 (Batc  (None, 28, 28, 64)       256       \n",
      " hNormalization)                                                 \n",
      "                                                                 \n",
      " conv2d_3 (Conv2D)           (None, 26, 26, 64)        36928     \n",
      "                                                                 \n",
      " batch_normalization_3 (Batc  (None, 26, 26, 64)       256       \n",
      " hNormalization)                                                 \n",
      "                                                                 \n",
      " max_pooling2d_1 (MaxPooling  (None, 13, 13, 64)       0         \n",
      " 2D)                                                             \n",
      "                                                                 \n",
      " conv2d_4 (Conv2D)           (None, 11, 11, 128)       73856     \n",
      "                                                                 \n",
      " batch_normalization_4 (Batc  (None, 11, 11, 128)      512       \n",
      " hNormalization)                                                 \n",
      "                                                                 \n",
      " conv2d_5 (Conv2D)           (None, 9, 9, 128)         147584    \n",
      "                                                                 \n",
      " batch_normalization_5 (Batc  (None, 9, 9, 128)        512       \n",
      " hNormalization)                                                 \n",
      "                                                                 \n",
      " max_pooling2d_2 (MaxPooling  (None, 4, 4, 128)        0         \n",
      " 2D)                                                             \n",
      "                                                                 \n",
      " flatten (Flatten)           (None, 2048)              0         \n",
      "                                                                 \n",
      " dense (Dense)               (None, 64)                131136    \n",
      "                                                                 \n",
      " batch_normalization_6 (Batc  (None, 64)               256       \n",
      " hNormalization)                                                 \n",
      "                                                                 \n",
      " dense_1 (Dense)             (None, 64)                4160      \n",
      "                                                                 \n",
      " batch_normalization_7 (Batc  (None, 64)               256       \n",
      " hNormalization)                                                 \n",
      "                                                                 \n",
      " dense_2 (Dense)             (None, 5)                 325       \n",
      "                                                                 \n",
      "=================================================================\n",
      "Total params: 424,933\n",
      "Trainable params: 423,781\n",
      "Non-trainable params: 1,152\n",
      "_________________________________________________________________\n"
     ]
    }
   ],
   "source": [
    "# 구조 점검\n",
    "cnn.summary()"
   ]
  },
  {
   "cell_type": "markdown",
   "metadata": {
    "id": "D6XkI90snSDl"
   },
   "source": [
    "## Part 3 - Training the CNN"
   ]
  },
  {
   "cell_type": "markdown",
   "metadata": {
    "id": "vfrFQACEnc6i"
   },
   "source": [
    "### Compiling the CNN"
   ]
  },
  {
   "cell_type": "code",
   "execution_count": 20,
   "metadata": {
    "id": "NALksrNQpUlJ"
   },
   "outputs": [],
   "source": [
    "# 옵티마이저 확률적 경사 하강법\n",
    "# 손실 함수 이진 교차 엔트로피\n",
    "# merics 다중으로 할 수 있음\n",
    "cnn.compile(optimizer = 'adam', loss = 'categorical_crossentropy', metrics = ['accuracy'])"
   ]
  },
  {
   "cell_type": "markdown",
   "metadata": {
    "id": "ehS-v3MIpX2h"
   },
   "source": [
    "### Training the CNN on the Training set and evaluating it on the Test set"
   ]
  },
  {
   "cell_type": "markdown",
   "metadata": {},
   "source": [
    "과적합 방지를 위해 6개 폴더 번갈아가면서 훈련"
   ]
  },
  {
   "cell_type": "code",
   "execution_count": 21,
   "metadata": {
    "scrolled": false
   },
   "outputs": [
    {
     "name": "stdout",
     "output_type": "stream",
     "text": [
      "Epoch 1/50\n"
     ]
    },
    {
     "name": "stderr",
     "output_type": "stream",
     "text": [
      "2023-07-03 22:25:57.282889: W tensorflow/core/platform/profile_utils/cpu_utils.cc:128] Failed to get CPU frequency: 0 Hz\n"
     ]
    },
    {
     "name": "stdout",
     "output_type": "stream",
     "text": [
      "607/607 [==============================] - 447s 728ms/step - loss: 1.8173 - accuracy: 0.2079\n",
      "Epoch 2/50\n",
      "607/607 [==============================] - 224s 369ms/step - loss: 1.6905 - accuracy: 0.1928\n",
      "Epoch 3/50\n",
      "607/607 [==============================] - 225s 370ms/step - loss: 1.6529 - accuracy: 0.1996\n",
      "Epoch 4/50\n",
      "607/607 [==============================] - 225s 370ms/step - loss: 1.6395 - accuracy: 0.2121\n",
      "Epoch 5/50\n",
      "607/607 [==============================] - 225s 370ms/step - loss: 1.6309 - accuracy: 0.2050\n",
      "Epoch 6/50\n",
      "607/607 [==============================] - 225s 370ms/step - loss: 1.6294 - accuracy: 0.2032\n",
      "Epoch 7/50\n",
      "607/607 [==============================] - 226s 372ms/step - loss: 1.6215 - accuracy: 0.2192\n",
      "Epoch 8/50\n",
      "607/607 [==============================] - 225s 371ms/step - loss: 1.6246 - accuracy: 0.2142\n",
      "Epoch 9/50\n",
      "607/607 [==============================] - 225s 371ms/step - loss: 1.6253 - accuracy: 0.1999\n",
      "Epoch 10/50\n",
      "607/607 [==============================] - 225s 371ms/step - loss: 1.6246 - accuracy: 0.2062\n",
      "Epoch 11/50\n",
      "607/607 [==============================] - 225s 371ms/step - loss: 1.6200 - accuracy: 0.2107\n",
      "Epoch 12/50\n",
      "607/607 [==============================] - 225s 370ms/step - loss: 1.6241 - accuracy: 0.2079\n",
      "Epoch 13/50\n",
      "607/607 [==============================] - 224s 369ms/step - loss: 1.6186 - accuracy: 0.2053\n",
      "Epoch 14/50\n",
      "607/607 [==============================] - 224s 370ms/step - loss: 1.6213 - accuracy: 0.2079\n",
      "Epoch 15/50\n",
      "607/607 [==============================] - 225s 370ms/step - loss: 1.6160 - accuracy: 0.2081\n",
      "Epoch 16/50\n",
      "607/607 [==============================] - 225s 371ms/step - loss: 1.6224 - accuracy: 0.2046\n",
      "Epoch 17/50\n",
      "607/607 [==============================] - 225s 371ms/step - loss: 1.6203 - accuracy: 0.2100\n",
      "Epoch 18/50\n",
      "607/607 [==============================] - 226s 372ms/step - loss: 1.6193 - accuracy: 0.2083\n",
      "Epoch 19/50\n",
      "607/607 [==============================] - 225s 370ms/step - loss: 1.6193 - accuracy: 0.2024\n",
      "Epoch 20/50\n",
      "607/607 [==============================] - 225s 371ms/step - loss: 1.6151 - accuracy: 0.2130\n",
      "Epoch 21/50\n",
      "607/607 [==============================] - 226s 372ms/step - loss: 1.6178 - accuracy: 0.1935\n",
      "Epoch 22/50\n",
      "607/607 [==============================] - 226s 372ms/step - loss: 1.6167 - accuracy: 0.1963\n",
      "Epoch 23/50\n",
      "607/607 [==============================] - 226s 372ms/step - loss: 1.6177 - accuracy: 0.1874\n",
      "Epoch 24/50\n",
      "607/607 [==============================] - 226s 372ms/step - loss: 1.6145 - accuracy: 0.2126\n",
      "Epoch 25/50\n",
      "607/607 [==============================] - 225s 371ms/step - loss: 1.6126 - accuracy: 0.2170\n",
      "Epoch 26/50\n",
      "607/607 [==============================] - 225s 371ms/step - loss: 1.6141 - accuracy: 0.2086\n",
      "Epoch 27/50\n",
      "607/607 [==============================] - 225s 371ms/step - loss: 1.6109 - accuracy: 0.2175\n",
      "Epoch 28/50\n",
      "607/607 [==============================] - 225s 370ms/step - loss: 1.6108 - accuracy: 0.2213\n",
      "Epoch 29/50\n",
      "607/607 [==============================] - 228s 375ms/step - loss: 1.6071 - accuracy: 0.2243\n",
      "Epoch 30/50\n",
      "607/607 [==============================] - 225s 371ms/step - loss: 1.6080 - accuracy: 0.2180\n",
      "Epoch 31/50\n",
      "607/607 [==============================] - 224s 369ms/step - loss: 1.6149 - accuracy: 0.2001\n",
      "Epoch 32/50\n",
      "607/607 [==============================] - 224s 369ms/step - loss: 1.6111 - accuracy: 0.2137\n",
      "Epoch 33/50\n",
      "607/607 [==============================] - 224s 369ms/step - loss: 1.6133 - accuracy: 0.2069\n",
      "Epoch 34/50\n",
      "607/607 [==============================] - 224s 369ms/step - loss: 1.6103 - accuracy: 0.2140\n",
      "Epoch 35/50\n",
      "607/607 [==============================] - 224s 369ms/step - loss: 1.6074 - accuracy: 0.2269\n",
      "Epoch 36/50\n",
      "607/607 [==============================] - 224s 368ms/step - loss: 1.6100 - accuracy: 0.2159\n",
      "Epoch 37/50\n",
      "607/607 [==============================] - 224s 368ms/step - loss: 1.6110 - accuracy: 0.2135\n",
      "Epoch 38/50\n",
      "607/607 [==============================] - 224s 368ms/step - loss: 1.6127 - accuracy: 0.1980\n",
      "Epoch 39/50\n",
      "607/607 [==============================] - 224s 368ms/step - loss: 1.6081 - accuracy: 0.2133\n",
      "Epoch 40/50\n",
      "607/607 [==============================] - 224s 368ms/step - loss: 1.6085 - accuracy: 0.2145\n",
      "Epoch 41/50\n",
      "607/607 [==============================] - 224s 368ms/step - loss: 1.6087 - accuracy: 0.2187\n",
      "Epoch 42/50\n",
      "607/607 [==============================] - 224s 368ms/step - loss: 1.6071 - accuracy: 0.2185\n",
      "Epoch 43/50\n",
      "607/607 [==============================] - 224s 368ms/step - loss: 1.6102 - accuracy: 0.2121\n",
      "Epoch 44/50\n",
      "607/607 [==============================] - 227s 374ms/step - loss: 1.6062 - accuracy: 0.2243\n",
      "Epoch 45/50\n",
      "607/607 [==============================] - 230s 378ms/step - loss: 1.6089 - accuracy: 0.2206\n",
      "Epoch 46/50\n",
      "607/607 [==============================] - 230s 379ms/step - loss: 1.6060 - accuracy: 0.2201\n",
      "Epoch 47/50\n",
      "607/607 [==============================] - 232s 382ms/step - loss: 1.6059 - accuracy: 0.2290\n",
      "Epoch 48/50\n",
      "607/607 [==============================] - 233s 384ms/step - loss: 1.6041 - accuracy: 0.2293\n",
      "Epoch 49/50\n",
      "607/607 [==============================] - 233s 384ms/step - loss: 1.6030 - accuracy: 0.2375\n",
      "Epoch 50/50\n",
      "607/607 [==============================] - 233s 384ms/step - loss: 1.6020 - accuracy: 0.2373\n"
     ]
    },
    {
     "data": {
      "text/plain": [
       "<keras.callbacks.History at 0x28aec9520>"
      ]
     },
     "execution_count": 21,
     "metadata": {},
     "output_type": "execute_result"
    }
   ],
   "source": [
    "cnn.fit(training_set_list[0], epochs = 50)"
   ]
  },
  {
   "cell_type": "code",
   "execution_count": 29,
   "metadata": {
    "collapsed": true
   },
   "outputs": [
    {
     "name": "stdout",
     "output_type": "stream",
     "text": [
      "Epoch 1/50\n",
      "292/608 [=============>................] - ETA: 1:54 - loss: 1.6073 - accuracy: 0.2115"
     ]
    },
    {
     "name": "stderr",
     "output_type": "stream",
     "text": [
      "2023-07-04 13:47:40.017927: W tensorflow/core/framework/op_kernel.cc:1733] UNKNOWN: OSError: broken data stream when reading image file\n",
      "Traceback (most recent call last):\n",
      "\n",
      "  File \"/Users/chosy/anaconda3/envs/newbie/lib/python3.8/site-packages/tensorflow/python/ops/script_ops.py\", line 270, in __call__\n",
      "    ret = func(*args)\n",
      "\n",
      "  File \"/Users/chosy/anaconda3/envs/newbie/lib/python3.8/site-packages/tensorflow/python/autograph/impl/api.py\", line 642, in wrapper\n",
      "    return func(*args, **kwargs)\n",
      "\n",
      "  File \"/Users/chosy/anaconda3/envs/newbie/lib/python3.8/site-packages/tensorflow/python/data/ops/dataset_ops.py\", line 1030, in generator_py_func\n",
      "    values = next(generator_state.get_iterator(iterator_id))\n",
      "\n",
      "  File \"/Users/chosy/anaconda3/envs/newbie/lib/python3.8/site-packages/keras/engine/data_adapter.py\", line 831, in wrapped_generator\n",
      "    for data in generator_fn():\n",
      "\n",
      "  File \"/Users/chosy/anaconda3/envs/newbie/lib/python3.8/site-packages/keras/engine/data_adapter.py\", line 957, in generator_fn\n",
      "    yield x[i]\n",
      "\n",
      "  File \"/Users/chosy/anaconda3/envs/newbie/lib/python3.8/site-packages/keras/preprocessing/image.py\", line 110, in __getitem__\n",
      "    return self._get_batches_of_transformed_samples(index_array)\n",
      "\n",
      "  File \"/Users/chosy/anaconda3/envs/newbie/lib/python3.8/site-packages/keras/preprocessing/image.py\", line 337, in _get_batches_of_transformed_samples\n",
      "    img = image_utils.load_img(\n",
      "\n",
      "  File \"/Users/chosy/anaconda3/envs/newbie/lib/python3.8/site-packages/keras/utils/image_utils.py\", line 443, in load_img\n",
      "    img = img.resize(width_height_tuple, resample)\n",
      "\n",
      "  File \"/Users/chosy/anaconda3/envs/newbie/lib/python3.8/site-packages/PIL/Image.py\", line 2156, in resize\n",
      "    self.load()\n",
      "\n",
      "  File \"/Users/chosy/anaconda3/envs/newbie/lib/python3.8/site-packages/PIL/ImageFile.py\", line 288, in load\n",
      "    raise_oserror(err_code)\n",
      "\n",
      "  File \"/Users/chosy/anaconda3/envs/newbie/lib/python3.8/site-packages/PIL/ImageFile.py\", line 72, in raise_oserror\n",
      "    raise OSError(msg)\n",
      "\n",
      "OSError: broken data stream when reading image file\n",
      "\n",
      "\n"
     ]
    },
    {
     "ename": "UnknownError",
     "evalue": "Graph execution error:\n\n2 root error(s) found.\n  (0) UNKNOWN:  OSError: broken data stream when reading image file\nTraceback (most recent call last):\n\n  File \"/Users/chosy/anaconda3/envs/newbie/lib/python3.8/site-packages/tensorflow/python/ops/script_ops.py\", line 270, in __call__\n    ret = func(*args)\n\n  File \"/Users/chosy/anaconda3/envs/newbie/lib/python3.8/site-packages/tensorflow/python/autograph/impl/api.py\", line 642, in wrapper\n    return func(*args, **kwargs)\n\n  File \"/Users/chosy/anaconda3/envs/newbie/lib/python3.8/site-packages/tensorflow/python/data/ops/dataset_ops.py\", line 1030, in generator_py_func\n    values = next(generator_state.get_iterator(iterator_id))\n\n  File \"/Users/chosy/anaconda3/envs/newbie/lib/python3.8/site-packages/keras/engine/data_adapter.py\", line 831, in wrapped_generator\n    for data in generator_fn():\n\n  File \"/Users/chosy/anaconda3/envs/newbie/lib/python3.8/site-packages/keras/engine/data_adapter.py\", line 957, in generator_fn\n    yield x[i]\n\n  File \"/Users/chosy/anaconda3/envs/newbie/lib/python3.8/site-packages/keras/preprocessing/image.py\", line 110, in __getitem__\n    return self._get_batches_of_transformed_samples(index_array)\n\n  File \"/Users/chosy/anaconda3/envs/newbie/lib/python3.8/site-packages/keras/preprocessing/image.py\", line 337, in _get_batches_of_transformed_samples\n    img = image_utils.load_img(\n\n  File \"/Users/chosy/anaconda3/envs/newbie/lib/python3.8/site-packages/keras/utils/image_utils.py\", line 443, in load_img\n    img = img.resize(width_height_tuple, resample)\n\n  File \"/Users/chosy/anaconda3/envs/newbie/lib/python3.8/site-packages/PIL/Image.py\", line 2156, in resize\n    self.load()\n\n  File \"/Users/chosy/anaconda3/envs/newbie/lib/python3.8/site-packages/PIL/ImageFile.py\", line 288, in load\n    raise_oserror(err_code)\n\n  File \"/Users/chosy/anaconda3/envs/newbie/lib/python3.8/site-packages/PIL/ImageFile.py\", line 72, in raise_oserror\n    raise OSError(msg)\n\nOSError: broken data stream when reading image file\n\n\n\t [[{{node PyFunc}}]]\n\t [[IteratorGetNext]]\n\t [[IteratorGetNext/_10]]\n  (1) UNKNOWN:  OSError: broken data stream when reading image file\nTraceback (most recent call last):\n\n  File \"/Users/chosy/anaconda3/envs/newbie/lib/python3.8/site-packages/tensorflow/python/ops/script_ops.py\", line 270, in __call__\n    ret = func(*args)\n\n  File \"/Users/chosy/anaconda3/envs/newbie/lib/python3.8/site-packages/tensorflow/python/autograph/impl/api.py\", line 642, in wrapper\n    return func(*args, **kwargs)\n\n  File \"/Users/chosy/anaconda3/envs/newbie/lib/python3.8/site-packages/tensorflow/python/data/ops/dataset_ops.py\", line 1030, in generator_py_func\n    values = next(generator_state.get_iterator(iterator_id))\n\n  File \"/Users/chosy/anaconda3/envs/newbie/lib/python3.8/site-packages/keras/engine/data_adapter.py\", line 831, in wrapped_generator\n    for data in generator_fn():\n\n  File \"/Users/chosy/anaconda3/envs/newbie/lib/python3.8/site-packages/keras/engine/data_adapter.py\", line 957, in generator_fn\n    yield x[i]\n\n  File \"/Users/chosy/anaconda3/envs/newbie/lib/python3.8/site-packages/keras/preprocessing/image.py\", line 110, in __getitem__\n    return self._get_batches_of_transformed_samples(index_array)\n\n  File \"/Users/chosy/anaconda3/envs/newbie/lib/python3.8/site-packages/keras/preprocessing/image.py\", line 337, in _get_batches_of_transformed_samples\n    img = image_utils.load_img(\n\n  File \"/Users/chosy/anaconda3/envs/newbie/lib/python3.8/site-packages/keras/utils/image_utils.py\", line 443, in load_img\n    img = img.resize(width_height_tuple, resample)\n\n  File \"/Users/chosy/anaconda3/envs/newbie/lib/python3.8/site-packages/PIL/Image.py\", line 2156, in resize\n    self.load()\n\n  File \"/Users/chosy/anaconda3/envs/newbie/lib/python3.8/site-packages/PIL/ImageFile.py\", line 288, in load\n    raise_oserror(err_code)\n\n  File \"/Users/chosy/anaconda3/envs/newbie/lib/python3.8/site-packages/PIL/ImageFile.py\", line 72, in raise_oserror\n    raise OSError(msg)\n\nOSError: broken data stream when reading image file\n\n\n\t [[{{node PyFunc}}]]\n\t [[IteratorGetNext]]\n0 successful operations.\n0 derived errors ignored. [Op:__inference_train_function_2596]",
     "output_type": "error",
     "traceback": [
      "\u001b[0;31m---------------------------------------------------------------------------\u001b[0m",
      "\u001b[0;31mUnknownError\u001b[0m                              Traceback (most recent call last)",
      "Cell \u001b[0;32mIn[29], line 1\u001b[0m\n\u001b[0;32m----> 1\u001b[0m \u001b[43mcnn\u001b[49m\u001b[38;5;241;43m.\u001b[39;49m\u001b[43mfit\u001b[49m\u001b[43m(\u001b[49m\u001b[43mtraining_set_list\u001b[49m\u001b[43m[\u001b[49m\u001b[38;5;241;43m1\u001b[39;49m\u001b[43m]\u001b[49m\u001b[43m,\u001b[49m\u001b[43m \u001b[49m\u001b[43mepochs\u001b[49m\u001b[43m \u001b[49m\u001b[38;5;241;43m=\u001b[39;49m\u001b[43m \u001b[49m\u001b[38;5;241;43m50\u001b[39;49m\u001b[43m)\u001b[49m\n",
      "File \u001b[0;32m~/anaconda3/envs/newbie/lib/python3.8/site-packages/keras/utils/traceback_utils.py:67\u001b[0m, in \u001b[0;36mfilter_traceback.<locals>.error_handler\u001b[0;34m(*args, **kwargs)\u001b[0m\n\u001b[1;32m     65\u001b[0m \u001b[38;5;28;01mexcept\u001b[39;00m \u001b[38;5;167;01mException\u001b[39;00m \u001b[38;5;28;01mas\u001b[39;00m e:  \u001b[38;5;66;03m# pylint: disable=broad-except\u001b[39;00m\n\u001b[1;32m     66\u001b[0m   filtered_tb \u001b[38;5;241m=\u001b[39m _process_traceback_frames(e\u001b[38;5;241m.\u001b[39m__traceback__)\n\u001b[0;32m---> 67\u001b[0m   \u001b[38;5;28;01mraise\u001b[39;00m e\u001b[38;5;241m.\u001b[39mwith_traceback(filtered_tb) \u001b[38;5;28;01mfrom\u001b[39;00m \u001b[38;5;28;01mNone\u001b[39;00m\n\u001b[1;32m     68\u001b[0m \u001b[38;5;28;01mfinally\u001b[39;00m:\n\u001b[1;32m     69\u001b[0m   \u001b[38;5;28;01mdel\u001b[39;00m filtered_tb\n",
      "File \u001b[0;32m~/anaconda3/envs/newbie/lib/python3.8/site-packages/tensorflow/python/eager/execute.py:54\u001b[0m, in \u001b[0;36mquick_execute\u001b[0;34m(op_name, num_outputs, inputs, attrs, ctx, name)\u001b[0m\n\u001b[1;32m     52\u001b[0m \u001b[38;5;28;01mtry\u001b[39;00m:\n\u001b[1;32m     53\u001b[0m   ctx\u001b[38;5;241m.\u001b[39mensure_initialized()\n\u001b[0;32m---> 54\u001b[0m   tensors \u001b[38;5;241m=\u001b[39m pywrap_tfe\u001b[38;5;241m.\u001b[39mTFE_Py_Execute(ctx\u001b[38;5;241m.\u001b[39m_handle, device_name, op_name,\n\u001b[1;32m     55\u001b[0m                                       inputs, attrs, num_outputs)\n\u001b[1;32m     56\u001b[0m \u001b[38;5;28;01mexcept\u001b[39;00m core\u001b[38;5;241m.\u001b[39m_NotOkStatusException \u001b[38;5;28;01mas\u001b[39;00m e:\n\u001b[1;32m     57\u001b[0m   \u001b[38;5;28;01mif\u001b[39;00m name \u001b[38;5;129;01mis\u001b[39;00m \u001b[38;5;129;01mnot\u001b[39;00m \u001b[38;5;28;01mNone\u001b[39;00m:\n",
      "\u001b[0;31mUnknownError\u001b[0m: Graph execution error:\n\n2 root error(s) found.\n  (0) UNKNOWN:  OSError: broken data stream when reading image file\nTraceback (most recent call last):\n\n  File \"/Users/chosy/anaconda3/envs/newbie/lib/python3.8/site-packages/tensorflow/python/ops/script_ops.py\", line 270, in __call__\n    ret = func(*args)\n\n  File \"/Users/chosy/anaconda3/envs/newbie/lib/python3.8/site-packages/tensorflow/python/autograph/impl/api.py\", line 642, in wrapper\n    return func(*args, **kwargs)\n\n  File \"/Users/chosy/anaconda3/envs/newbie/lib/python3.8/site-packages/tensorflow/python/data/ops/dataset_ops.py\", line 1030, in generator_py_func\n    values = next(generator_state.get_iterator(iterator_id))\n\n  File \"/Users/chosy/anaconda3/envs/newbie/lib/python3.8/site-packages/keras/engine/data_adapter.py\", line 831, in wrapped_generator\n    for data in generator_fn():\n\n  File \"/Users/chosy/anaconda3/envs/newbie/lib/python3.8/site-packages/keras/engine/data_adapter.py\", line 957, in generator_fn\n    yield x[i]\n\n  File \"/Users/chosy/anaconda3/envs/newbie/lib/python3.8/site-packages/keras/preprocessing/image.py\", line 110, in __getitem__\n    return self._get_batches_of_transformed_samples(index_array)\n\n  File \"/Users/chosy/anaconda3/envs/newbie/lib/python3.8/site-packages/keras/preprocessing/image.py\", line 337, in _get_batches_of_transformed_samples\n    img = image_utils.load_img(\n\n  File \"/Users/chosy/anaconda3/envs/newbie/lib/python3.8/site-packages/keras/utils/image_utils.py\", line 443, in load_img\n    img = img.resize(width_height_tuple, resample)\n\n  File \"/Users/chosy/anaconda3/envs/newbie/lib/python3.8/site-packages/PIL/Image.py\", line 2156, in resize\n    self.load()\n\n  File \"/Users/chosy/anaconda3/envs/newbie/lib/python3.8/site-packages/PIL/ImageFile.py\", line 288, in load\n    raise_oserror(err_code)\n\n  File \"/Users/chosy/anaconda3/envs/newbie/lib/python3.8/site-packages/PIL/ImageFile.py\", line 72, in raise_oserror\n    raise OSError(msg)\n\nOSError: broken data stream when reading image file\n\n\n\t [[{{node PyFunc}}]]\n\t [[IteratorGetNext]]\n\t [[IteratorGetNext/_10]]\n  (1) UNKNOWN:  OSError: broken data stream when reading image file\nTraceback (most recent call last):\n\n  File \"/Users/chosy/anaconda3/envs/newbie/lib/python3.8/site-packages/tensorflow/python/ops/script_ops.py\", line 270, in __call__\n    ret = func(*args)\n\n  File \"/Users/chosy/anaconda3/envs/newbie/lib/python3.8/site-packages/tensorflow/python/autograph/impl/api.py\", line 642, in wrapper\n    return func(*args, **kwargs)\n\n  File \"/Users/chosy/anaconda3/envs/newbie/lib/python3.8/site-packages/tensorflow/python/data/ops/dataset_ops.py\", line 1030, in generator_py_func\n    values = next(generator_state.get_iterator(iterator_id))\n\n  File \"/Users/chosy/anaconda3/envs/newbie/lib/python3.8/site-packages/keras/engine/data_adapter.py\", line 831, in wrapped_generator\n    for data in generator_fn():\n\n  File \"/Users/chosy/anaconda3/envs/newbie/lib/python3.8/site-packages/keras/engine/data_adapter.py\", line 957, in generator_fn\n    yield x[i]\n\n  File \"/Users/chosy/anaconda3/envs/newbie/lib/python3.8/site-packages/keras/preprocessing/image.py\", line 110, in __getitem__\n    return self._get_batches_of_transformed_samples(index_array)\n\n  File \"/Users/chosy/anaconda3/envs/newbie/lib/python3.8/site-packages/keras/preprocessing/image.py\", line 337, in _get_batches_of_transformed_samples\n    img = image_utils.load_img(\n\n  File \"/Users/chosy/anaconda3/envs/newbie/lib/python3.8/site-packages/keras/utils/image_utils.py\", line 443, in load_img\n    img = img.resize(width_height_tuple, resample)\n\n  File \"/Users/chosy/anaconda3/envs/newbie/lib/python3.8/site-packages/PIL/Image.py\", line 2156, in resize\n    self.load()\n\n  File \"/Users/chosy/anaconda3/envs/newbie/lib/python3.8/site-packages/PIL/ImageFile.py\", line 288, in load\n    raise_oserror(err_code)\n\n  File \"/Users/chosy/anaconda3/envs/newbie/lib/python3.8/site-packages/PIL/ImageFile.py\", line 72, in raise_oserror\n    raise OSError(msg)\n\nOSError: broken data stream when reading image file\n\n\n\t [[{{node PyFunc}}]]\n\t [[IteratorGetNext]]\n0 successful operations.\n0 derived errors ignored. [Op:__inference_train_function_2596]"
     ]
    }
   ],
   "source": [
    "cnn.fit(training_set_list[1], epochs = 50)"
   ]
  },
  {
   "cell_type": "code",
   "execution_count": 30,
   "metadata": {
    "scrolled": true
   },
   "outputs": [
    {
     "name": "stdout",
     "output_type": "stream",
     "text": [
      "Epoch 1/50\n",
      "610/610 [==============================] - 3774s 6s/step - loss: 1.6121 - accuracy: 0.1932\n",
      "Epoch 2/50\n",
      "610/610 [==============================] - 217s 355ms/step - loss: 1.6077 - accuracy: 0.2199\n",
      "Epoch 3/50\n",
      "610/610 [==============================] - 218s 358ms/step - loss: 1.6082 - accuracy: 0.2110\n",
      "Epoch 4/50\n",
      "610/610 [==============================] - 219s 359ms/step - loss: 1.6077 - accuracy: 0.2168\n",
      "Epoch 5/50\n",
      "610/610 [==============================] - 219s 359ms/step - loss: 1.6079 - accuracy: 0.2185\n",
      "Epoch 6/50\n",
      "610/610 [==============================] - 219s 359ms/step - loss: 1.6069 - accuracy: 0.2201\n",
      "Epoch 7/50\n",
      "610/610 [==============================] - 219s 360ms/step - loss: 1.6078 - accuracy: 0.2138\n",
      "Epoch 8/50\n",
      "610/610 [==============================] - 219s 360ms/step - loss: 1.6091 - accuracy: 0.2133\n",
      "Epoch 9/50\n",
      "610/610 [==============================] - 219s 360ms/step - loss: 1.6055 - accuracy: 0.2152\n",
      "Epoch 10/50\n",
      "610/610 [==============================] - 219s 359ms/step - loss: 1.6056 - accuracy: 0.2175\n",
      "Epoch 11/50\n",
      "610/610 [==============================] - 219s 359ms/step - loss: 1.6039 - accuracy: 0.2288\n",
      "Epoch 12/50\n",
      "610/610 [==============================] - 219s 360ms/step - loss: 1.6078 - accuracy: 0.2103\n",
      "Epoch 13/50\n",
      "610/610 [==============================] - 219s 360ms/step - loss: 1.6082 - accuracy: 0.2110\n",
      "Epoch 14/50\n",
      "610/610 [==============================] - 219s 360ms/step - loss: 1.6050 - accuracy: 0.2370\n",
      "Epoch 15/50\n",
      "610/610 [==============================] - 219s 360ms/step - loss: 1.6016 - accuracy: 0.2342\n",
      "Epoch 16/50\n",
      "610/610 [==============================] - 219s 360ms/step - loss: 1.6031 - accuracy: 0.2297\n",
      "Epoch 17/50\n",
      "610/610 [==============================] - 219s 360ms/step - loss: 1.5986 - accuracy: 0.2400\n",
      "Epoch 18/50\n",
      "610/610 [==============================] - 219s 360ms/step - loss: 1.6007 - accuracy: 0.2398\n",
      "Epoch 19/50\n",
      "610/610 [==============================] - 219s 360ms/step - loss: 1.5985 - accuracy: 0.2363\n",
      "Epoch 20/50\n",
      "610/610 [==============================] - 219s 360ms/step - loss: 1.5960 - accuracy: 0.2520\n",
      "Epoch 21/50\n",
      "610/610 [==============================] - 219s 360ms/step - loss: 1.5900 - accuracy: 0.2576\n",
      "Epoch 22/50\n",
      "610/610 [==============================] - 220s 360ms/step - loss: 1.5979 - accuracy: 0.2443\n",
      "Epoch 23/50\n",
      "610/610 [==============================] - 220s 360ms/step - loss: 1.5937 - accuracy: 0.2506\n",
      "Epoch 24/50\n",
      "610/610 [==============================] - 220s 360ms/step - loss: 1.5890 - accuracy: 0.2590\n",
      "Epoch 25/50\n",
      "610/610 [==============================] - 219s 360ms/step - loss: 1.5814 - accuracy: 0.2623\n",
      "Epoch 26/50\n",
      "610/610 [==============================] - 219s 360ms/step - loss: 1.5738 - accuracy: 0.2738\n",
      "Epoch 27/50\n",
      "610/610 [==============================] - 219s 360ms/step - loss: 1.5676 - accuracy: 0.2818\n",
      "Epoch 28/50\n",
      "610/610 [==============================] - 219s 360ms/step - loss: 1.5732 - accuracy: 0.2806\n",
      "Epoch 29/50\n",
      "610/610 [==============================] - 219s 360ms/step - loss: 1.5576 - accuracy: 0.2940\n",
      "Epoch 30/50\n",
      "610/610 [==============================] - 219s 360ms/step - loss: 1.5493 - accuracy: 0.2947\n",
      "Epoch 31/50\n",
      "610/610 [==============================] - 220s 360ms/step - loss: 1.5408 - accuracy: 0.2965\n",
      "Epoch 32/50\n",
      "610/610 [==============================] - 219s 360ms/step - loss: 1.5478 - accuracy: 0.2932\n",
      "Epoch 33/50\n",
      "610/610 [==============================] - 219s 360ms/step - loss: 1.5330 - accuracy: 0.3012\n",
      "Epoch 34/50\n",
      "610/610 [==============================] - 219s 360ms/step - loss: 1.5193 - accuracy: 0.3134\n",
      "Epoch 35/50\n",
      "610/610 [==============================] - 219s 360ms/step - loss: 1.5252 - accuracy: 0.3134\n",
      "Epoch 36/50\n",
      "610/610 [==============================] - 219s 360ms/step - loss: 1.5016 - accuracy: 0.3275\n",
      "Epoch 37/50\n",
      "610/610 [==============================] - 219s 360ms/step - loss: 1.5030 - accuracy: 0.3265\n",
      "Epoch 38/50\n",
      "610/610 [==============================] - 219s 360ms/step - loss: 1.5451 - accuracy: 0.2918\n",
      "Epoch 39/50\n",
      "610/610 [==============================] - 219s 360ms/step - loss: 1.5323 - accuracy: 0.3115\n",
      "Epoch 40/50\n",
      "610/610 [==============================] - 220s 360ms/step - loss: 1.5181 - accuracy: 0.3216\n",
      "Epoch 41/50\n",
      "610/610 [==============================] - 220s 360ms/step - loss: 1.5127 - accuracy: 0.3244\n",
      "Epoch 42/50\n",
      "610/610 [==============================] - 220s 360ms/step - loss: 1.4864 - accuracy: 0.3411\n",
      "Epoch 43/50\n",
      "610/610 [==============================] - 219s 360ms/step - loss: 1.4821 - accuracy: 0.3432\n",
      "Epoch 44/50\n",
      "610/610 [==============================] - 219s 360ms/step - loss: 1.4588 - accuracy: 0.3540\n",
      "Epoch 45/50\n",
      "610/610 [==============================] - 220s 360ms/step - loss: 1.4655 - accuracy: 0.3502\n",
      "Epoch 46/50\n",
      "610/610 [==============================] - 219s 360ms/step - loss: 1.4505 - accuracy: 0.3528\n",
      "Epoch 47/50\n",
      "610/610 [==============================] - 219s 360ms/step - loss: 1.4348 - accuracy: 0.3640\n",
      "Epoch 48/50\n",
      "610/610 [==============================] - 219s 360ms/step - loss: 1.4233 - accuracy: 0.3833\n",
      "Epoch 49/50\n",
      "610/610 [==============================] - 220s 360ms/step - loss: 1.4210 - accuracy: 0.3765\n",
      "Epoch 50/50\n",
      "610/610 [==============================] - 220s 360ms/step - loss: 1.4133 - accuracy: 0.3746\n"
     ]
    },
    {
     "data": {
      "text/plain": [
       "<keras.callbacks.History at 0x2c21060a0>"
      ]
     },
     "execution_count": 30,
     "metadata": {},
     "output_type": "execute_result"
    }
   ],
   "source": [
    "cnn.fit(training_set_list[2], epochs = 50)"
   ]
  },
  {
   "cell_type": "code",
   "execution_count": 31,
   "metadata": {},
   "outputs": [
    {
     "name": "stdout",
     "output_type": "stream",
     "text": [
      "Epoch 1/50\n",
      "607/607 [==============================] - 3946s 7s/step - loss: 1.4544 - accuracy: 0.3515\n",
      "Epoch 2/50\n",
      "607/607 [==============================] - 219s 361ms/step - loss: 1.4228 - accuracy: 0.3800\n",
      "Epoch 3/50\n",
      "607/607 [==============================] - 220s 362ms/step - loss: 1.4531 - accuracy: 0.3642\n",
      "Epoch 4/50\n",
      "607/607 [==============================] - 221s 364ms/step - loss: 1.4157 - accuracy: 0.3840\n",
      "Epoch 5/50\n",
      "607/607 [==============================] - 221s 364ms/step - loss: 1.3809 - accuracy: 0.4019\n",
      "Epoch 6/50\n",
      "607/607 [==============================] - 221s 365ms/step - loss: 1.3595 - accuracy: 0.4174\n",
      "Epoch 7/50\n",
      "607/607 [==============================] - 221s 365ms/step - loss: 1.3669 - accuracy: 0.4165\n",
      "Epoch 8/50\n",
      "607/607 [==============================] - 222s 365ms/step - loss: 1.3420 - accuracy: 0.4148\n",
      "Epoch 9/50\n",
      "462/607 [=====================>........] - ETA: 53s - loss: 1.3585 - accuracy: 0.4149"
     ]
    }
   ],
   "source": [
    "cnn.fit(training_set_list[3], epochs = 50)"
   ]
  },
  {
   "cell_type": "code",
   "execution_count": null,
   "metadata": {},
   "outputs": [],
   "source": [
    "cnn.fit(training_set_list[0], epochs = 50)"
   ]
  },
  {
   "cell_type": "code",
   "execution_count": null,
   "metadata": {},
   "outputs": [],
   "source": [
    "cnn.fit(training_set_list[1], epochs = 50)"
   ]
  },
  {
   "cell_type": "code",
   "execution_count": null,
   "metadata": {},
   "outputs": [],
   "source": [
    "cnn.fit(training_set_list[2], epochs = 50)"
   ]
  },
  {
   "cell_type": "code",
   "execution_count": 30,
   "metadata": {},
   "outputs": [
    {
     "name": "stdout",
     "output_type": "stream",
     "text": [
      "Epoch 1/15\n",
      "607/607 [==============================] - 222s 367ms/step - loss: 1.3965 - accuracy: 0.3922\n",
      "Epoch 2/15\n",
      "607/607 [==============================] - 222s 366ms/step - loss: 1.3413 - accuracy: 0.4231\n",
      "Epoch 3/15\n",
      "607/607 [==============================] - 222s 366ms/step - loss: 1.3349 - accuracy: 0.4231\n",
      "Epoch 4/15\n",
      "607/607 [==============================] - 222s 365ms/step - loss: 1.3096 - accuracy: 0.4337\n",
      "Epoch 5/15\n",
      "607/607 [==============================] - 222s 365ms/step - loss: 1.2979 - accuracy: 0.4471\n",
      "Epoch 6/15\n",
      "607/607 [==============================] - 222s 366ms/step - loss: 1.3034 - accuracy: 0.4485\n",
      "Epoch 7/15\n",
      "607/607 [==============================] - 222s 366ms/step - loss: 1.2589 - accuracy: 0.4653\n",
      "Epoch 8/15\n",
      "607/607 [==============================] - 222s 366ms/step - loss: 1.2446 - accuracy: 0.4770\n",
      "Epoch 9/15\n",
      "607/607 [==============================] - 222s 366ms/step - loss: 1.2498 - accuracy: 0.4808\n",
      "Epoch 10/15\n",
      "607/607 [==============================] - 222s 367ms/step - loss: 1.2189 - accuracy: 0.4940\n",
      "Epoch 11/15\n",
      "607/607 [==============================] - 222s 366ms/step - loss: 1.1996 - accuracy: 0.4949\n",
      "Epoch 12/15\n",
      "607/607 [==============================] - 222s 366ms/step - loss: 1.1912 - accuracy: 0.5065\n",
      "Epoch 13/15\n",
      "607/607 [==============================] - 222s 366ms/step - loss: 1.2083 - accuracy: 0.5020\n",
      "Epoch 14/15\n",
      "607/607 [==============================] - 222s 366ms/step - loss: 1.1559 - accuracy: 0.5314\n",
      "Epoch 15/15\n",
      "607/607 [==============================] - 223s 367ms/step - loss: 1.1509 - accuracy: 0.5296\n"
     ]
    },
    {
     "data": {
      "text/plain": [
       "<keras.callbacks.History at 0x2bfe37af0>"
      ]
     },
     "execution_count": 30,
     "metadata": {},
     "output_type": "execute_result"
    }
   ],
   "source": [
    "cnn.fit(training_set_list[3], epochs = 15)"
   ]
  },
  {
   "cell_type": "code",
   "execution_count": 31,
   "metadata": {},
   "outputs": [
    {
     "name": "stdout",
     "output_type": "stream",
     "text": [
      "Epoch 1/15\n",
      "608/608 [==============================] - 223s 367ms/step - loss: 1.3527 - accuracy: 0.4278\n",
      "Epoch 2/15\n",
      "608/608 [==============================] - 223s 367ms/step - loss: 1.3139 - accuracy: 0.4511\n",
      "Epoch 3/15\n",
      "608/608 [==============================] - 223s 367ms/step - loss: 1.2795 - accuracy: 0.4687\n",
      "Epoch 4/15\n",
      "608/608 [==============================] - 223s 367ms/step - loss: 1.2714 - accuracy: 0.4685\n",
      "Epoch 5/15\n",
      "608/608 [==============================] - 223s 367ms/step - loss: 1.2403 - accuracy: 0.4746\n",
      "Epoch 6/15\n",
      "608/608 [==============================] - 223s 367ms/step - loss: 1.2363 - accuracy: 0.4861\n",
      "Epoch 7/15\n",
      "608/608 [==============================] - 223s 367ms/step - loss: 1.2128 - accuracy: 0.4981\n",
      "Epoch 8/15\n",
      "608/608 [==============================] - 225s 371ms/step - loss: 1.1951 - accuracy: 0.5035\n",
      "Epoch 9/15\n",
      "608/608 [==============================] - 223s 367ms/step - loss: 1.2083 - accuracy: 0.5014\n",
      "Epoch 10/15\n",
      "608/608 [==============================] - 223s 367ms/step - loss: 1.1599 - accuracy: 0.5287\n",
      "Epoch 11/15\n",
      "608/608 [==============================] - 223s 366ms/step - loss: 1.1478 - accuracy: 0.5254\n",
      "Epoch 12/15\n",
      "608/608 [==============================] - 223s 366ms/step - loss: 1.1449 - accuracy: 0.5294\n",
      "Epoch 13/15\n",
      "608/608 [==============================] - 223s 367ms/step - loss: 1.1114 - accuracy: 0.5374\n",
      "Epoch 14/15\n",
      "608/608 [==============================] - 223s 367ms/step - loss: 1.1136 - accuracy: 0.5489\n",
      "Epoch 15/15\n",
      "608/608 [==============================] - 223s 367ms/step - loss: 1.0808 - accuracy: 0.5609\n"
     ]
    },
    {
     "data": {
      "text/plain": [
       "<keras.callbacks.History at 0x28a6a7340>"
      ]
     },
     "execution_count": 31,
     "metadata": {},
     "output_type": "execute_result"
    }
   ],
   "source": [
    "cnn.fit(training_set_list[4], epochs = 15)"
   ]
  },
  {
   "cell_type": "code",
   "execution_count": 32,
   "metadata": {},
   "outputs": [
    {
     "name": "stdout",
     "output_type": "stream",
     "text": [
      "Epoch 1/15\n",
      "607/607 [==============================] - 225s 371ms/step - loss: 1.3237 - accuracy: 0.4356\n",
      "Epoch 2/15\n",
      "607/607 [==============================] - 224s 369ms/step - loss: 1.2719 - accuracy: 0.4693\n",
      "Epoch 3/15\n",
      "607/607 [==============================] - 224s 370ms/step - loss: 1.2431 - accuracy: 0.4865\n",
      "Epoch 4/15\n",
      "607/607 [==============================] - 225s 371ms/step - loss: 1.2246 - accuracy: 0.4914\n",
      "Epoch 5/15\n",
      "607/607 [==============================] - 225s 371ms/step - loss: 1.2113 - accuracy: 0.5013\n",
      "Epoch 6/15\n",
      "607/607 [==============================] - 225s 371ms/step - loss: 1.1787 - accuracy: 0.5208\n",
      "Epoch 7/15\n",
      "607/607 [==============================] - 225s 371ms/step - loss: 1.1672 - accuracy: 0.5215\n",
      "Epoch 8/15\n",
      "607/607 [==============================] - 225s 371ms/step - loss: 1.1678 - accuracy: 0.5189\n",
      "Epoch 9/15\n",
      "607/607 [==============================] - 225s 371ms/step - loss: 1.1244 - accuracy: 0.5401\n",
      "Epoch 10/15\n",
      "607/607 [==============================] - 225s 370ms/step - loss: 1.0891 - accuracy: 0.5641\n",
      "Epoch 11/15\n",
      "607/607 [==============================] - 225s 370ms/step - loss: 1.0908 - accuracy: 0.5540\n",
      "Epoch 12/15\n",
      "607/607 [==============================] - 225s 370ms/step - loss: 1.0668 - accuracy: 0.5693\n",
      "Epoch 13/15\n",
      "607/607 [==============================] - 225s 370ms/step - loss: 1.0678 - accuracy: 0.5714\n",
      "Epoch 14/15\n",
      "607/607 [==============================] - 225s 370ms/step - loss: 1.0216 - accuracy: 0.5950\n",
      "Epoch 15/15\n",
      "607/607 [==============================] - 225s 370ms/step - loss: 1.0126 - accuracy: 0.5952\n"
     ]
    },
    {
     "data": {
      "text/plain": [
       "<keras.callbacks.History at 0x2bfe4f340>"
      ]
     },
     "execution_count": 32,
     "metadata": {},
     "output_type": "execute_result"
    }
   ],
   "source": [
    "cnn.fit(training_set_list[0], epochs = 15)"
   ]
  },
  {
   "cell_type": "code",
   "execution_count": 33,
   "metadata": {},
   "outputs": [
    {
     "name": "stdout",
     "output_type": "stream",
     "text": [
      "Epoch 1/15\n",
      "607/607 [==============================] - 224s 369ms/step - loss: 1.2790 - accuracy: 0.4669\n",
      "Epoch 2/15\n",
      "607/607 [==============================] - 224s 369ms/step - loss: 1.2239 - accuracy: 0.4989\n",
      "Epoch 3/15\n",
      "607/607 [==============================] - 224s 369ms/step - loss: 1.2018 - accuracy: 0.5013\n",
      "Epoch 4/15\n",
      "607/607 [==============================] - 224s 368ms/step - loss: 1.1750 - accuracy: 0.5201\n",
      "Epoch 5/15\n",
      "607/607 [==============================] - 224s 368ms/step - loss: 1.1713 - accuracy: 0.5248\n",
      "Epoch 6/15\n",
      "607/607 [==============================] - 224s 368ms/step - loss: 1.1296 - accuracy: 0.5406\n",
      "Epoch 7/15\n",
      "607/607 [==============================] - 224s 368ms/step - loss: 1.1171 - accuracy: 0.5491\n",
      "Epoch 8/15\n",
      "607/607 [==============================] - 224s 368ms/step - loss: 1.1033 - accuracy: 0.5521\n",
      "Epoch 9/15\n",
      "607/607 [==============================] - 224s 368ms/step - loss: 1.0803 - accuracy: 0.5660\n",
      "Epoch 10/15\n",
      "607/607 [==============================] - 224s 369ms/step - loss: 1.0832 - accuracy: 0.5679\n",
      "Epoch 11/15\n",
      "607/607 [==============================] - 224s 369ms/step - loss: 1.0340 - accuracy: 0.5912\n",
      "Epoch 12/15\n",
      "607/607 [==============================] - 223s 368ms/step - loss: 1.0234 - accuracy: 0.5999\n",
      "Epoch 13/15\n",
      "607/607 [==============================] - 223s 368ms/step - loss: 1.0429 - accuracy: 0.5858\n",
      "Epoch 14/15\n",
      "607/607 [==============================] - 223s 367ms/step - loss: 1.0028 - accuracy: 0.6016\n",
      "Epoch 15/15\n",
      "607/607 [==============================] - 223s 367ms/step - loss: 1.0138 - accuracy: 0.6034\n"
     ]
    },
    {
     "data": {
      "text/plain": [
       "<keras.callbacks.History at 0x2c180e850>"
      ]
     },
     "execution_count": 33,
     "metadata": {},
     "output_type": "execute_result"
    }
   ],
   "source": [
    "cnn.fit(training_set_list[1], epochs = 15)"
   ]
  },
  {
   "cell_type": "code",
   "execution_count": 34,
   "metadata": {},
   "outputs": [
    {
     "name": "stdout",
     "output_type": "stream",
     "text": [
      "Epoch 1/15\n",
      "610/610 [==============================] - 221s 361ms/step - loss: 1.2343 - accuracy: 0.4816\n",
      "Epoch 2/15\n",
      "610/610 [==============================] - 221s 362ms/step - loss: 1.1897 - accuracy: 0.5128\n",
      "Epoch 3/15\n",
      "610/610 [==============================] - 221s 362ms/step - loss: 1.1530 - accuracy: 0.5203\n",
      "Epoch 4/15\n",
      "610/610 [==============================] - 221s 362ms/step - loss: 1.1245 - accuracy: 0.5465\n",
      "Epoch 5/15\n",
      "610/610 [==============================] - 221s 362ms/step - loss: 1.1032 - accuracy: 0.5484\n",
      "Epoch 6/15\n",
      "610/610 [==============================] - 221s 362ms/step - loss: 1.0980 - accuracy: 0.5531\n",
      "Epoch 7/15\n",
      "610/610 [==============================] - 221s 362ms/step - loss: 1.0552 - accuracy: 0.5746\n",
      "Epoch 8/15\n",
      "610/610 [==============================] - 221s 362ms/step - loss: 1.0333 - accuracy: 0.5864\n",
      "Epoch 9/15\n",
      "610/610 [==============================] - 221s 362ms/step - loss: 1.0269 - accuracy: 0.5850\n",
      "Epoch 10/15\n",
      "610/610 [==============================] - 221s 362ms/step - loss: 1.0088 - accuracy: 0.5997\n",
      "Epoch 11/15\n",
      "610/610 [==============================] - 221s 362ms/step - loss: 0.9740 - accuracy: 0.6110\n",
      "Epoch 12/15\n",
      "610/610 [==============================] - 221s 362ms/step - loss: 0.9448 - accuracy: 0.6189\n",
      "Epoch 13/15\n",
      "610/610 [==============================] - 221s 362ms/step - loss: 0.9348 - accuracy: 0.6403\n",
      "Epoch 14/15\n",
      "610/610 [==============================] - 221s 362ms/step - loss: 0.9128 - accuracy: 0.6356\n",
      "Epoch 15/15\n",
      "610/610 [==============================] - 221s 362ms/step - loss: 0.9146 - accuracy: 0.6438\n"
     ]
    },
    {
     "data": {
      "text/plain": [
       "<keras.callbacks.History at 0x2c18285b0>"
      ]
     },
     "execution_count": 34,
     "metadata": {},
     "output_type": "execute_result"
    }
   ],
   "source": [
    "cnn.fit(training_set_list[2], epochs = 15)"
   ]
  },
  {
   "cell_type": "code",
   "execution_count": 35,
   "metadata": {},
   "outputs": [
    {
     "name": "stdout",
     "output_type": "stream",
     "text": [
      "Epoch 1/15\n",
      "607/607 [==============================] - 222s 366ms/step - loss: 1.2220 - accuracy: 0.5001\n",
      "Epoch 2/15\n",
      "607/607 [==============================] - 222s 366ms/step - loss: 1.1486 - accuracy: 0.5343\n",
      "Epoch 3/15\n",
      "607/607 [==============================] - 222s 366ms/step - loss: 1.0884 - accuracy: 0.5600\n",
      "Epoch 4/15\n",
      "607/607 [==============================] - 222s 366ms/step - loss: 1.0915 - accuracy: 0.5595\n",
      "Epoch 5/15\n",
      "607/607 [==============================] - 222s 366ms/step - loss: 1.0669 - accuracy: 0.5786\n",
      "Epoch 6/15\n",
      "607/607 [==============================] - 223s 367ms/step - loss: 1.0416 - accuracy: 0.5870\n",
      "Epoch 7/15\n",
      "607/607 [==============================] - 222s 366ms/step - loss: 1.0204 - accuracy: 0.5965\n",
      "Epoch 8/15\n",
      "607/607 [==============================] - 222s 366ms/step - loss: 1.0206 - accuracy: 0.5974\n",
      "Epoch 9/15\n",
      "607/607 [==============================] - 222s 366ms/step - loss: 0.9956 - accuracy: 0.6087\n",
      "Epoch 10/15\n",
      "607/607 [==============================] - 222s 366ms/step - loss: 0.9741 - accuracy: 0.6181\n",
      "Epoch 11/15\n",
      "607/607 [==============================] - 222s 366ms/step - loss: 0.9376 - accuracy: 0.6309\n",
      "Epoch 12/15\n",
      "607/607 [==============================] - 222s 367ms/step - loss: 0.9238 - accuracy: 0.6330\n",
      "Epoch 13/15\n",
      "607/607 [==============================] - 222s 366ms/step - loss: 0.9028 - accuracy: 0.6485\n",
      "Epoch 14/15\n",
      "607/607 [==============================] - 222s 366ms/step - loss: 0.9136 - accuracy: 0.6462\n",
      "Epoch 15/15\n",
      "607/607 [==============================] - 222s 366ms/step - loss: 0.8887 - accuracy: 0.6589\n"
     ]
    },
    {
     "data": {
      "text/plain": [
       "<keras.callbacks.History at 0x2c1820550>"
      ]
     },
     "execution_count": 35,
     "metadata": {},
     "output_type": "execute_result"
    }
   ],
   "source": [
    "cnn.fit(training_set_list[3], epochs = 15)"
   ]
  },
  {
   "cell_type": "code",
   "execution_count": 36,
   "metadata": {},
   "outputs": [
    {
     "name": "stdout",
     "output_type": "stream",
     "text": [
      "Epoch 1/15\n",
      "608/608 [==============================] - 223s 367ms/step - loss: 1.1824 - accuracy: 0.5327\n",
      "Epoch 2/15\n",
      "608/608 [==============================] - 223s 366ms/step - loss: 1.1216 - accuracy: 0.5407\n",
      "Epoch 3/15\n",
      "608/608 [==============================] - 223s 367ms/step - loss: 1.0842 - accuracy: 0.5687\n",
      "Epoch 4/15\n",
      "608/608 [==============================] - 223s 367ms/step - loss: 1.0708 - accuracy: 0.5784\n",
      "Epoch 5/15\n",
      "608/608 [==============================] - 223s 367ms/step - loss: 1.0121 - accuracy: 0.6014\n",
      "Epoch 6/15\n",
      "608/608 [==============================] - 223s 367ms/step - loss: 1.0171 - accuracy: 0.6024\n",
      "Epoch 7/15\n",
      "608/608 [==============================] - 223s 367ms/step - loss: 0.9993 - accuracy: 0.6087\n",
      "Epoch 8/15\n",
      "608/608 [==============================] - 223s 367ms/step - loss: 0.9484 - accuracy: 0.6358\n",
      "Epoch 9/15\n",
      "608/608 [==============================] - 223s 367ms/step - loss: 0.9568 - accuracy: 0.6266\n",
      "Epoch 10/15\n",
      "608/608 [==============================] - 223s 367ms/step - loss: 0.9708 - accuracy: 0.6228\n",
      "Epoch 11/15\n",
      "608/608 [==============================] - 223s 367ms/step - loss: 0.9398 - accuracy: 0.6393\n",
      "Epoch 12/15\n",
      "608/608 [==============================] - 223s 367ms/step - loss: 0.9284 - accuracy: 0.6414\n",
      "Epoch 13/15\n",
      "608/608 [==============================] - 223s 367ms/step - loss: 0.9068 - accuracy: 0.6511\n",
      "Epoch 14/15\n",
      "608/608 [==============================] - 223s 367ms/step - loss: 0.8706 - accuracy: 0.6539\n",
      "Epoch 15/15\n",
      "608/608 [==============================] - 223s 367ms/step - loss: 0.8265 - accuracy: 0.6711\n"
     ]
    },
    {
     "data": {
      "text/plain": [
       "<keras.callbacks.History at 0x2c1816580>"
      ]
     },
     "execution_count": 36,
     "metadata": {},
     "output_type": "execute_result"
    }
   ],
   "source": [
    "cnn.fit(training_set_list[4], epochs = 15)"
   ]
  },
  {
   "cell_type": "code",
   "execution_count": 37,
   "metadata": {},
   "outputs": [
    {
     "name": "stdout",
     "output_type": "stream",
     "text": [
      "Epoch 1/10\n",
      "607/607 [==============================] - 225s 370ms/step - loss: 1.1507 - accuracy: 0.5458\n",
      "Epoch 2/10\n",
      "607/607 [==============================] - 225s 370ms/step - loss: 1.0930 - accuracy: 0.5677\n",
      "Epoch 3/10\n",
      "607/607 [==============================] - 225s 370ms/step - loss: 1.0430 - accuracy: 0.5914\n",
      "Epoch 4/10\n",
      "607/607 [==============================] - 224s 370ms/step - loss: 1.0167 - accuracy: 0.5917\n",
      "Epoch 5/10\n",
      "607/607 [==============================] - 224s 370ms/step - loss: 1.0159 - accuracy: 0.5928\n",
      "Epoch 6/10\n",
      "607/607 [==============================] - 225s 370ms/step - loss: 0.9861 - accuracy: 0.6145\n",
      "Epoch 7/10\n",
      "607/607 [==============================] - 224s 370ms/step - loss: 0.9752 - accuracy: 0.6274\n",
      "Epoch 8/10\n",
      "607/607 [==============================] - 224s 370ms/step - loss: 0.9351 - accuracy: 0.6392\n",
      "Epoch 9/10\n",
      "607/607 [==============================] - 224s 370ms/step - loss: 0.9238 - accuracy: 0.6439\n",
      "Epoch 10/10\n",
      "607/607 [==============================] - 224s 370ms/step - loss: 0.8853 - accuracy: 0.6538\n"
     ]
    },
    {
     "data": {
      "text/plain": [
       "<keras.callbacks.History at 0x2c1855d00>"
      ]
     },
     "execution_count": 37,
     "metadata": {},
     "output_type": "execute_result"
    }
   ],
   "source": [
    "cnn.fit(training_set_list[0], epochs = 10)"
   ]
  },
  {
   "cell_type": "code",
   "execution_count": 38,
   "metadata": {},
   "outputs": [
    {
     "name": "stdout",
     "output_type": "stream",
     "text": [
      "Epoch 1/10\n",
      "607/607 [==============================] - 224s 369ms/step - loss: 1.1139 - accuracy: 0.5510\n",
      "Epoch 2/10\n",
      "607/607 [==============================] - 224s 369ms/step - loss: 1.0617 - accuracy: 0.5806\n",
      "Epoch 3/10\n",
      "607/607 [==============================] - 224s 369ms/step - loss: 1.0595 - accuracy: 0.5771\n",
      "Epoch 4/10\n",
      "607/607 [==============================] - 224s 369ms/step - loss: 1.0076 - accuracy: 0.6048\n",
      "Epoch 5/10\n",
      "607/607 [==============================] - 224s 369ms/step - loss: 0.9702 - accuracy: 0.6152\n",
      "Epoch 6/10\n",
      "607/607 [==============================] - 224s 368ms/step - loss: 0.9597 - accuracy: 0.6171\n",
      "Epoch 7/10\n",
      "607/607 [==============================] - 224s 369ms/step - loss: 0.9298 - accuracy: 0.6439\n",
      "Epoch 8/10\n",
      "607/607 [==============================] - 224s 369ms/step - loss: 0.9347 - accuracy: 0.6406\n",
      "Epoch 9/10\n",
      "607/607 [==============================] - 226s 372ms/step - loss: 0.8996 - accuracy: 0.6578\n",
      "Epoch 10/10\n",
      "607/607 [==============================] - 224s 370ms/step - loss: 0.8686 - accuracy: 0.6592\n"
     ]
    },
    {
     "data": {
      "text/plain": [
       "<keras.callbacks.History at 0x2c186fb20>"
      ]
     },
     "execution_count": 38,
     "metadata": {},
     "output_type": "execute_result"
    }
   ],
   "source": [
    "cnn.fit(training_set_list[1], epochs = 10)"
   ]
  },
  {
   "cell_type": "code",
   "execution_count": 39,
   "metadata": {},
   "outputs": [
    {
     "name": "stdout",
     "output_type": "stream",
     "text": [
      "Epoch 1/10\n",
      "610/610 [==============================] - 224s 367ms/step - loss: 1.0789 - accuracy: 0.5772\n",
      "Epoch 2/10\n",
      "610/610 [==============================] - 222s 364ms/step - loss: 1.0252 - accuracy: 0.5887\n",
      "Epoch 3/10\n",
      "610/610 [==============================] - 222s 363ms/step - loss: 0.9836 - accuracy: 0.6046\n",
      "Epoch 4/10\n",
      "610/610 [==============================] - 222s 363ms/step - loss: 0.9260 - accuracy: 0.6278\n",
      "Epoch 5/10\n",
      "610/610 [==============================] - 222s 363ms/step - loss: 0.9014 - accuracy: 0.6457\n",
      "Epoch 6/10\n",
      "610/610 [==============================] - 222s 363ms/step - loss: 0.8890 - accuracy: 0.6499\n",
      "Epoch 7/10\n",
      "610/610 [==============================] - 222s 364ms/step - loss: 0.8557 - accuracy: 0.6667\n",
      "Epoch 8/10\n",
      "610/610 [==============================] - 222s 364ms/step - loss: 0.8511 - accuracy: 0.6665\n",
      "Epoch 9/10\n",
      "610/610 [==============================] - 222s 363ms/step - loss: 0.8227 - accuracy: 0.6860\n",
      "Epoch 10/10\n",
      "610/610 [==============================] - 222s 363ms/step - loss: 0.7729 - accuracy: 0.7089\n"
     ]
    },
    {
     "data": {
      "text/plain": [
       "<keras.callbacks.History at 0x2c1878eb0>"
      ]
     },
     "execution_count": 39,
     "metadata": {},
     "output_type": "execute_result"
    }
   ],
   "source": [
    "cnn.fit(training_set_list[2], epochs = 10)"
   ]
  },
  {
   "cell_type": "code",
   "execution_count": 40,
   "metadata": {},
   "outputs": [
    {
     "name": "stdout",
     "output_type": "stream",
     "text": [
      "Epoch 1/10\n",
      "607/607 [==============================] - 223s 368ms/step - loss: 1.0780 - accuracy: 0.5788\n",
      "Epoch 2/10\n",
      "607/607 [==============================] - 223s 368ms/step - loss: 0.9999 - accuracy: 0.6087\n",
      "Epoch 3/10\n",
      "607/607 [==============================] - 223s 367ms/step - loss: 0.9567 - accuracy: 0.6250\n",
      "Epoch 4/10\n",
      "607/607 [==============================] - 223s 366ms/step - loss: 0.9538 - accuracy: 0.6264\n",
      "Epoch 5/10\n",
      "607/607 [==============================] - 223s 367ms/step - loss: 0.8982 - accuracy: 0.6462\n",
      "Epoch 6/10\n",
      "607/607 [==============================] - 223s 367ms/step - loss: 0.8901 - accuracy: 0.6544\n",
      "Epoch 7/10\n",
      "607/607 [==============================] - 223s 367ms/step - loss: 0.8579 - accuracy: 0.6624\n",
      "Epoch 8/10\n",
      "607/607 [==============================] - 223s 367ms/step - loss: 0.8473 - accuracy: 0.6676\n",
      "Epoch 9/10\n",
      "607/607 [==============================] - 223s 367ms/step - loss: 0.8357 - accuracy: 0.6721\n",
      "Epoch 10/10\n",
      "607/607 [==============================] - 223s 367ms/step - loss: 0.7959 - accuracy: 0.6992\n"
     ]
    },
    {
     "data": {
      "text/plain": [
       "<keras.callbacks.History at 0x2c18a0490>"
      ]
     },
     "execution_count": 40,
     "metadata": {},
     "output_type": "execute_result"
    }
   ],
   "source": [
    "cnn.fit(training_set_list[3], epochs = 10)"
   ]
  },
  {
   "cell_type": "code",
   "execution_count": 41,
   "metadata": {},
   "outputs": [
    {
     "name": "stdout",
     "output_type": "stream",
     "text": [
      "Epoch 1/10\n",
      "608/608 [==============================] - 223s 367ms/step - loss: 1.0460 - accuracy: 0.5772\n",
      "Epoch 2/10\n",
      "608/608 [==============================] - 223s 367ms/step - loss: 0.9469 - accuracy: 0.6322\n",
      "Epoch 3/10\n",
      "608/608 [==============================] - 223s 367ms/step - loss: 0.9244 - accuracy: 0.6409\n",
      "Epoch 4/10\n",
      "608/608 [==============================] - 223s 367ms/step - loss: 0.9124 - accuracy: 0.6494\n",
      "Epoch 5/10\n",
      "608/608 [==============================] - 223s 367ms/step - loss: 0.8804 - accuracy: 0.6614\n",
      "Epoch 6/10\n",
      "608/608 [==============================] - 223s 367ms/step - loss: 0.8468 - accuracy: 0.6692\n",
      "Epoch 7/10\n",
      "608/608 [==============================] - 223s 367ms/step - loss: 0.8185 - accuracy: 0.6814\n",
      "Epoch 8/10\n",
      "608/608 [==============================] - 223s 367ms/step - loss: 0.8094 - accuracy: 0.6882\n",
      "Epoch 9/10\n",
      "608/608 [==============================] - 223s 367ms/step - loss: 0.7746 - accuracy: 0.7134\n",
      "Epoch 10/10\n",
      "608/608 [==============================] - 224s 368ms/step - loss: 0.7374 - accuracy: 0.7207\n"
     ]
    },
    {
     "data": {
      "text/plain": [
       "<keras.callbacks.History at 0x2c18b8e80>"
      ]
     },
     "execution_count": 41,
     "metadata": {},
     "output_type": "execute_result"
    }
   ],
   "source": [
    "cnn.fit(training_set_list[4], epochs = 10)"
   ]
  },
  {
   "cell_type": "code",
   "execution_count": 42,
   "metadata": {},
   "outputs": [
    {
     "name": "stdout",
     "output_type": "stream",
     "text": [
      "Epoch 1/10\n",
      "607/607 [==============================] - 224s 369ms/step - loss: 1.0464 - accuracy: 0.5914\n",
      "Epoch 2/10\n",
      "607/607 [==============================] - 225s 370ms/step - loss: 0.9743 - accuracy: 0.6178\n",
      "Epoch 3/10\n",
      "607/607 [==============================] - 224s 370ms/step - loss: 0.9283 - accuracy: 0.6385\n",
      "Epoch 4/10\n",
      "607/607 [==============================] - 224s 370ms/step - loss: 0.9124 - accuracy: 0.6559\n",
      "Epoch 5/10\n",
      "607/607 [==============================] - 224s 370ms/step - loss: 0.8613 - accuracy: 0.6726\n",
      "Epoch 6/10\n",
      "607/607 [==============================] - 224s 370ms/step - loss: 0.8699 - accuracy: 0.6594\n",
      "Epoch 7/10\n",
      "607/607 [==============================] - 225s 371ms/step - loss: 0.8209 - accuracy: 0.6858\n",
      "Epoch 8/10\n",
      "607/607 [==============================] - 225s 370ms/step - loss: 0.7957 - accuracy: 0.6978\n",
      "Epoch 9/10\n",
      "607/607 [==============================] - 224s 370ms/step - loss: 0.7643 - accuracy: 0.7115\n",
      "Epoch 10/10\n",
      "607/607 [==============================] - 228s 375ms/step - loss: 0.7315 - accuracy: 0.7199\n"
     ]
    },
    {
     "data": {
      "text/plain": [
       "<keras.callbacks.History at 0x2bf7c7eb0>"
      ]
     },
     "execution_count": 42,
     "metadata": {},
     "output_type": "execute_result"
    }
   ],
   "source": [
    "cnn.fit(training_set_list[0], epochs = 10)"
   ]
  },
  {
   "cell_type": "code",
   "execution_count": 43,
   "metadata": {},
   "outputs": [
    {
     "name": "stdout",
     "output_type": "stream",
     "text": [
      "Epoch 1/10\n",
      "607/607 [==============================] - 225s 370ms/step - loss: 1.0322 - accuracy: 0.5985\n",
      "Epoch 2/10\n",
      "607/607 [==============================] - 224s 369ms/step - loss: 0.9457 - accuracy: 0.6289\n",
      "Epoch 3/10\n",
      "607/607 [==============================] - 224s 369ms/step - loss: 0.9253 - accuracy: 0.6387\n",
      "Epoch 4/10\n",
      "607/607 [==============================] - 224s 369ms/step - loss: 0.8831 - accuracy: 0.6554\n",
      "Epoch 5/10\n",
      "607/607 [==============================] - 224s 369ms/step - loss: 0.8573 - accuracy: 0.6696\n",
      "Epoch 6/10\n",
      "607/607 [==============================] - 224s 369ms/step - loss: 0.8278 - accuracy: 0.6809\n",
      "Epoch 7/10\n",
      "607/607 [==============================] - 224s 369ms/step - loss: 0.8036 - accuracy: 0.6966\n",
      "Epoch 8/10\n",
      "607/607 [==============================] - 224s 369ms/step - loss: 0.7789 - accuracy: 0.6995\n",
      "Epoch 9/10\n",
      "607/607 [==============================] - 224s 369ms/step - loss: 0.7652 - accuracy: 0.7124\n",
      "Epoch 10/10\n",
      "607/607 [==============================] - 224s 369ms/step - loss: 0.7156 - accuracy: 0.7289\n"
     ]
    },
    {
     "data": {
      "text/plain": [
       "<keras.callbacks.History at 0x2c18ddc40>"
      ]
     },
     "execution_count": 43,
     "metadata": {},
     "output_type": "execute_result"
    }
   ],
   "source": [
    "cnn.fit(training_set_list[1], epochs = 10)"
   ]
  },
  {
   "cell_type": "code",
   "execution_count": 44,
   "metadata": {},
   "outputs": [
    {
     "name": "stdout",
     "output_type": "stream",
     "text": [
      "Epoch 1/10\n",
      "610/610 [==============================] - 221s 363ms/step - loss: 0.9871 - accuracy: 0.6140\n",
      "Epoch 2/10\n",
      "610/610 [==============================] - 221s 362ms/step - loss: 0.8941 - accuracy: 0.6424\n",
      "Epoch 3/10\n",
      "610/610 [==============================] - 221s 362ms/step - loss: 0.8646 - accuracy: 0.6621\n",
      "Epoch 4/10\n",
      "610/610 [==============================] - 222s 364ms/step - loss: 0.8317 - accuracy: 0.6876\n",
      "Epoch 5/10\n",
      "610/610 [==============================] - 222s 363ms/step - loss: 0.7819 - accuracy: 0.6956\n",
      "Epoch 6/10\n",
      "610/610 [==============================] - 222s 363ms/step - loss: 0.7732 - accuracy: 0.6977\n",
      "Epoch 7/10\n",
      "610/610 [==============================] - 222s 363ms/step - loss: 0.7522 - accuracy: 0.7136\n",
      "Epoch 8/10\n",
      "610/610 [==============================] - 222s 363ms/step - loss: 0.7306 - accuracy: 0.7249\n",
      "Epoch 9/10\n",
      "610/610 [==============================] - 222s 363ms/step - loss: 0.7210 - accuracy: 0.7225\n",
      "Epoch 10/10\n",
      "610/610 [==============================] - 222s 363ms/step - loss: 0.7300 - accuracy: 0.7183\n"
     ]
    },
    {
     "data": {
      "text/plain": [
       "<keras.callbacks.History at 0x2c1902700>"
      ]
     },
     "execution_count": 44,
     "metadata": {},
     "output_type": "execute_result"
    }
   ],
   "source": [
    "cnn.fit(training_set_list[2], epochs = 10)"
   ]
  },
  {
   "cell_type": "code",
   "execution_count": 45,
   "metadata": {},
   "outputs": [
    {
     "name": "stdout",
     "output_type": "stream",
     "text": [
      "Epoch 1/10\n",
      "607/607 [==============================] - 223s 367ms/step - loss: 0.9921 - accuracy: 0.6186\n",
      "Epoch 2/10\n",
      "607/607 [==============================] - 223s 367ms/step - loss: 0.9395 - accuracy: 0.6351\n",
      "Epoch 3/10\n",
      "607/607 [==============================] - 223s 367ms/step - loss: 0.9082 - accuracy: 0.6375\n",
      "Epoch 4/10\n",
      "607/607 [==============================] - 222s 366ms/step - loss: 0.8471 - accuracy: 0.6700\n",
      "Epoch 5/10\n",
      "607/607 [==============================] - 223s 367ms/step - loss: 0.8206 - accuracy: 0.6862\n",
      "Epoch 6/10\n",
      "607/607 [==============================] - 223s 367ms/step - loss: 0.8148 - accuracy: 0.6902\n",
      "Epoch 7/10\n",
      "607/607 [==============================] - 223s 367ms/step - loss: 0.7717 - accuracy: 0.7013\n",
      "Epoch 8/10\n",
      "607/607 [==============================] - 223s 367ms/step - loss: 0.7383 - accuracy: 0.7206\n",
      "Epoch 9/10\n",
      "607/607 [==============================] - 223s 367ms/step - loss: 0.7087 - accuracy: 0.7279\n",
      "Epoch 10/10\n",
      "607/607 [==============================] - 223s 367ms/step - loss: 0.7140 - accuracy: 0.7286\n"
     ]
    },
    {
     "data": {
      "text/plain": [
       "<keras.callbacks.History at 0x2c1912a60>"
      ]
     },
     "execution_count": 45,
     "metadata": {},
     "output_type": "execute_result"
    }
   ],
   "source": [
    "cnn.fit(training_set_list[3], epochs = 10)"
   ]
  },
  {
   "cell_type": "code",
   "execution_count": 46,
   "metadata": {},
   "outputs": [
    {
     "name": "stdout",
     "output_type": "stream",
     "text": [
      "Epoch 1/10\n",
      "608/608 [==============================] - 223s 367ms/step - loss: 0.9535 - accuracy: 0.6296\n",
      "Epoch 2/10\n",
      "608/608 [==============================] - 224s 368ms/step - loss: 0.8819 - accuracy: 0.6569\n",
      "Epoch 3/10\n",
      "608/608 [==============================] - 223s 367ms/step - loss: 0.8357 - accuracy: 0.6765\n",
      "Epoch 4/10\n",
      "608/608 [==============================] - 223s 367ms/step - loss: 0.7634 - accuracy: 0.7038\n",
      "Epoch 5/10\n",
      "608/608 [==============================] - 224s 368ms/step - loss: 0.7601 - accuracy: 0.7082\n",
      "Epoch 6/10\n",
      "608/608 [==============================] - 224s 368ms/step - loss: 0.7410 - accuracy: 0.7202\n",
      "Epoch 7/10\n",
      "608/608 [==============================] - 224s 368ms/step - loss: 0.7052 - accuracy: 0.7414\n",
      "Epoch 8/10\n",
      "608/608 [==============================] - 224s 368ms/step - loss: 0.6762 - accuracy: 0.7459\n",
      "Epoch 9/10\n",
      "608/608 [==============================] - 223s 368ms/step - loss: 0.6643 - accuracy: 0.7591\n",
      "Epoch 10/10\n",
      "608/608 [==============================] - 224s 368ms/step - loss: 0.6414 - accuracy: 0.7553\n"
     ]
    },
    {
     "data": {
      "text/plain": [
       "<keras.callbacks.History at 0x2c193af40>"
      ]
     },
     "execution_count": 46,
     "metadata": {},
     "output_type": "execute_result"
    }
   ],
   "source": [
    "cnn.fit(training_set_list[4], epochs = 10)"
   ]
  },
  {
   "cell_type": "code",
   "execution_count": 47,
   "metadata": {},
   "outputs": [
    {
     "name": "stdout",
     "output_type": "stream",
     "text": [
      "Epoch 1/10\n",
      "607/607 [==============================] - 225s 370ms/step - loss: 0.9885 - accuracy: 0.6284\n",
      "Epoch 2/10\n",
      "607/607 [==============================] - 225s 370ms/step - loss: 0.9285 - accuracy: 0.6385\n",
      "Epoch 3/10\n",
      "607/607 [==============================] - 225s 370ms/step - loss: 0.8431 - accuracy: 0.6764\n",
      "Epoch 4/10\n",
      "607/607 [==============================] - 225s 370ms/step - loss: 0.8161 - accuracy: 0.6908\n",
      "Epoch 5/10\n",
      "607/607 [==============================] - 225s 371ms/step - loss: 0.8072 - accuracy: 0.6910\n",
      "Epoch 6/10\n",
      "607/607 [==============================] - 225s 371ms/step - loss: 0.7487 - accuracy: 0.7223\n",
      "Epoch 7/10\n",
      "607/607 [==============================] - 225s 370ms/step - loss: 0.7520 - accuracy: 0.7124\n",
      "Epoch 8/10\n",
      "607/607 [==============================] - 225s 370ms/step - loss: 0.7545 - accuracy: 0.7119\n",
      "Epoch 9/10\n",
      "607/607 [==============================] - 227s 373ms/step - loss: 0.7267 - accuracy: 0.7244\n",
      "Epoch 10/10\n",
      "607/607 [==============================] - 225s 371ms/step - loss: 0.6844 - accuracy: 0.7461\n"
     ]
    },
    {
     "data": {
      "text/plain": [
       "<keras.callbacks.History at 0x2c1943700>"
      ]
     },
     "execution_count": 47,
     "metadata": {},
     "output_type": "execute_result"
    }
   ],
   "source": [
    "cnn.fit(training_set_list[0], epochs = 10)"
   ]
  },
  {
   "cell_type": "code",
   "execution_count": 48,
   "metadata": {},
   "outputs": [
    {
     "name": "stdout",
     "output_type": "stream",
     "text": [
      "Epoch 1/10\n",
      "607/607 [==============================] - 225s 370ms/step - loss: 0.9713 - accuracy: 0.6317\n",
      "Epoch 2/10\n",
      "607/607 [==============================] - 224s 369ms/step - loss: 0.8968 - accuracy: 0.6507\n",
      "Epoch 3/10\n",
      "607/607 [==============================] - 225s 370ms/step - loss: 0.8617 - accuracy: 0.6693\n",
      "Epoch 4/10\n",
      "607/607 [==============================] - 225s 370ms/step - loss: 0.8342 - accuracy: 0.6795\n",
      "Epoch 5/10\n",
      "607/607 [==============================] - 224s 369ms/step - loss: 0.7899 - accuracy: 0.6997\n",
      "Epoch 6/10\n",
      "607/607 [==============================] - 224s 369ms/step - loss: 0.7624 - accuracy: 0.7152\n",
      "Epoch 7/10\n",
      "607/607 [==============================] - 224s 369ms/step - loss: 0.7261 - accuracy: 0.7195\n",
      "Epoch 8/10\n",
      "607/607 [==============================] - 224s 369ms/step - loss: 0.7393 - accuracy: 0.7159\n",
      "Epoch 9/10\n",
      "607/607 [==============================] - 224s 369ms/step - loss: 0.6982 - accuracy: 0.7437\n",
      "Epoch 10/10\n",
      "607/607 [==============================] - 224s 369ms/step - loss: 0.6711 - accuracy: 0.7421\n"
     ]
    },
    {
     "data": {
      "text/plain": [
       "<keras.callbacks.History at 0x2c195f850>"
      ]
     },
     "execution_count": 48,
     "metadata": {},
     "output_type": "execute_result"
    }
   ],
   "source": [
    "cnn.fit(training_set_list[1], epochs = 10)"
   ]
  },
  {
   "cell_type": "code",
   "execution_count": 49,
   "metadata": {},
   "outputs": [
    {
     "name": "stdout",
     "output_type": "stream",
     "text": [
      "Epoch 1/10\n",
      "610/610 [==============================] - 221s 363ms/step - loss: 0.9074 - accuracy: 0.6585\n",
      "Epoch 2/10\n",
      "610/610 [==============================] - 221s 363ms/step - loss: 0.8424 - accuracy: 0.6733\n",
      "Epoch 3/10\n",
      "610/610 [==============================] - 223s 365ms/step - loss: 0.8131 - accuracy: 0.6841\n",
      "Epoch 4/10\n",
      "610/610 [==============================] - 222s 364ms/step - loss: 0.7425 - accuracy: 0.7136\n",
      "Epoch 5/10\n",
      "610/610 [==============================] - 222s 364ms/step - loss: 0.7091 - accuracy: 0.7387\n",
      "Epoch 6/10\n",
      "610/610 [==============================] - 222s 363ms/step - loss: 0.6974 - accuracy: 0.7345\n",
      "Epoch 7/10\n",
      "610/610 [==============================] - 222s 364ms/step - loss: 0.6658 - accuracy: 0.7446\n",
      "Epoch 8/10\n",
      "610/610 [==============================] - 222s 364ms/step - loss: 0.6612 - accuracy: 0.7457\n",
      "Epoch 9/10\n",
      "610/610 [==============================] - 222s 364ms/step - loss: 0.6138 - accuracy: 0.7762\n",
      "Epoch 10/10\n",
      "610/610 [==============================] - 222s 364ms/step - loss: 0.6343 - accuracy: 0.7633\n"
     ]
    },
    {
     "data": {
      "text/plain": [
       "<keras.callbacks.History at 0x2c1976df0>"
      ]
     },
     "execution_count": 49,
     "metadata": {},
     "output_type": "execute_result"
    }
   ],
   "source": [
    "cnn.fit(training_set_list[2], epochs = 10)"
   ]
  },
  {
   "cell_type": "code",
   "execution_count": 50,
   "metadata": {},
   "outputs": [
    {
     "name": "stdout",
     "output_type": "stream",
     "text": [
      "Epoch 1/10\n",
      "607/607 [==============================] - 223s 367ms/step - loss: 0.9263 - accuracy: 0.6464\n",
      "Epoch 2/10\n",
      "607/607 [==============================] - 223s 367ms/step - loss: 0.8657 - accuracy: 0.6655\n",
      "Epoch 3/10\n",
      "607/607 [==============================] - 223s 367ms/step - loss: 0.8175 - accuracy: 0.6749\n",
      "Epoch 4/10\n",
      "607/607 [==============================] - 223s 367ms/step - loss: 0.7637 - accuracy: 0.7062\n",
      "Epoch 5/10\n",
      "607/607 [==============================] - 223s 367ms/step - loss: 0.7296 - accuracy: 0.7234\n",
      "Epoch 6/10\n",
      "607/607 [==============================] - 223s 367ms/step - loss: 0.7164 - accuracy: 0.7331\n",
      "Epoch 7/10\n",
      "607/607 [==============================] - 223s 367ms/step - loss: 0.7043 - accuracy: 0.7425\n",
      "Epoch 8/10\n",
      "607/607 [==============================] - 223s 367ms/step - loss: 0.6640 - accuracy: 0.7461\n",
      "Epoch 9/10\n",
      "607/607 [==============================] - 223s 368ms/step - loss: 0.6562 - accuracy: 0.7543\n",
      "Epoch 10/10\n",
      "607/607 [==============================] - 224s 369ms/step - loss: 0.6264 - accuracy: 0.7654\n"
     ]
    },
    {
     "data": {
      "text/plain": [
       "<keras.callbacks.History at 0x2c221c7c0>"
      ]
     },
     "execution_count": 50,
     "metadata": {},
     "output_type": "execute_result"
    }
   ],
   "source": [
    "cnn.fit(training_set_list[3], epochs = 10)"
   ]
  },
  {
   "cell_type": "code",
   "execution_count": 51,
   "metadata": {},
   "outputs": [
    {
     "name": "stdout",
     "output_type": "stream",
     "text": [
      "Epoch 1/10\n",
      "608/608 [==============================] - 228s 375ms/step - loss: 0.9099 - accuracy: 0.6511\n",
      "Epoch 2/10\n",
      "608/608 [==============================] - 224s 369ms/step - loss: 0.8108 - accuracy: 0.6871\n",
      "Epoch 3/10\n",
      "608/608 [==============================] - 225s 369ms/step - loss: 0.7675 - accuracy: 0.7080\n",
      "Epoch 4/10\n",
      "608/608 [==============================] - 224s 368ms/step - loss: 0.7504 - accuracy: 0.7198\n",
      "Epoch 5/10\n",
      "608/608 [==============================] - 224s 368ms/step - loss: 0.6974 - accuracy: 0.7369\n",
      "Epoch 6/10\n",
      "608/608 [==============================] - 224s 368ms/step - loss: 0.7002 - accuracy: 0.7384\n",
      "Epoch 7/10\n",
      "608/608 [==============================] - 224s 368ms/step - loss: 0.6686 - accuracy: 0.7506\n",
      "Epoch 8/10\n",
      "608/608 [==============================] - 224s 368ms/step - loss: 0.6368 - accuracy: 0.7532\n",
      "Epoch 9/10\n",
      "608/608 [==============================] - 223s 368ms/step - loss: 0.6133 - accuracy: 0.7725\n",
      "Epoch 10/10\n",
      "608/608 [==============================] - 223s 367ms/step - loss: 0.6041 - accuracy: 0.7772\n"
     ]
    },
    {
     "data": {
      "text/plain": [
       "<keras.callbacks.History at 0x2c22107f0>"
      ]
     },
     "execution_count": 51,
     "metadata": {},
     "output_type": "execute_result"
    }
   ],
   "source": [
    "cnn.fit(training_set_list[4], epochs = 10)"
   ]
  },
  {
   "cell_type": "code",
   "execution_count": 82,
   "metadata": {},
   "outputs": [
    {
     "name": "stdout",
     "output_type": "stream",
     "text": [
      "Epoch 1/10\n",
      "607/607 [==============================] - 224s 369ms/step - loss: 0.9034 - accuracy: 0.6522\n",
      "Epoch 2/10\n",
      "607/607 [==============================] - 225s 371ms/step - loss: 0.8308 - accuracy: 0.6809\n",
      "Epoch 3/10\n",
      "607/607 [==============================] - 225s 370ms/step - loss: 0.9000 - accuracy: 0.6625\n",
      "Epoch 4/10\n",
      "607/607 [==============================] - 225s 370ms/step - loss: 0.8232 - accuracy: 0.6900\n",
      "Epoch 5/10\n",
      "607/607 [==============================] - 224s 369ms/step - loss: 0.7841 - accuracy: 0.7075\n",
      "Epoch 6/10\n",
      "607/607 [==============================] - 225s 371ms/step - loss: 0.7750 - accuracy: 0.7117\n",
      "Epoch 7/10\n",
      "607/607 [==============================] - 225s 371ms/step - loss: 0.7224 - accuracy: 0.7218\n",
      "Epoch 8/10\n",
      "607/607 [==============================] - 225s 370ms/step - loss: 0.6957 - accuracy: 0.7322\n",
      "Epoch 9/10\n",
      "607/607 [==============================] - 225s 370ms/step - loss: 0.6708 - accuracy: 0.7421\n",
      "Epoch 10/10\n",
      "607/607 [==============================] - 225s 370ms/step - loss: 0.6422 - accuracy: 0.7597\n"
     ]
    },
    {
     "data": {
      "text/plain": [
       "<keras.callbacks.History at 0x2f1ad4820>"
      ]
     },
     "execution_count": 82,
     "metadata": {},
     "output_type": "execute_result"
    }
   ],
   "source": [
    "cnn.fit(training_set_list[0], epochs = 10)"
   ]
  },
  {
   "cell_type": "code",
   "execution_count": 83,
   "metadata": {},
   "outputs": [
    {
     "name": "stdout",
     "output_type": "stream",
     "text": [
      "Epoch 1/10\n",
      "607/607 [==============================] - 224s 369ms/step - loss: 0.8830 - accuracy: 0.6604\n",
      "Epoch 2/10\n",
      "607/607 [==============================] - 224s 369ms/step - loss: 0.8138 - accuracy: 0.6870\n",
      "Epoch 3/10\n",
      "607/607 [==============================] - 224s 369ms/step - loss: 0.7513 - accuracy: 0.7183\n",
      "Epoch 4/10\n",
      "607/607 [==============================] - 224s 369ms/step - loss: 0.7326 - accuracy: 0.7197\n",
      "Epoch 5/10\n",
      "607/607 [==============================] - 224s 369ms/step - loss: 0.6960 - accuracy: 0.7312\n",
      "Epoch 6/10\n",
      "607/607 [==============================] - 224s 369ms/step - loss: 0.6653 - accuracy: 0.7505\n",
      "Epoch 7/10\n",
      "607/607 [==============================] - 224s 369ms/step - loss: 0.6420 - accuracy: 0.7618\n",
      "Epoch 8/10\n",
      "607/607 [==============================] - 224s 368ms/step - loss: 0.6103 - accuracy: 0.7684\n",
      "Epoch 9/10\n",
      "607/607 [==============================] - 224s 369ms/step - loss: 0.6048 - accuracy: 0.7743\n",
      "Epoch 10/10\n",
      "607/607 [==============================] - 225s 370ms/step - loss: 0.5663 - accuracy: 0.7924\n"
     ]
    },
    {
     "data": {
      "text/plain": [
       "<keras.callbacks.History at 0x2bf957cd0>"
      ]
     },
     "execution_count": 83,
     "metadata": {},
     "output_type": "execute_result"
    }
   ],
   "source": [
    "cnn.fit(training_set_list[1], epochs = 10)"
   ]
  },
  {
   "cell_type": "code",
   "execution_count": 84,
   "metadata": {},
   "outputs": [
    {
     "name": "stdout",
     "output_type": "stream",
     "text": [
      "Epoch 1/10\n",
      "610/610 [==============================] - 222s 363ms/step - loss: 0.8492 - accuracy: 0.6771\n",
      "Epoch 2/10\n",
      "610/610 [==============================] - 223s 365ms/step - loss: 0.7571 - accuracy: 0.7101\n",
      "Epoch 3/10\n",
      "610/610 [==============================] - 222s 364ms/step - loss: 0.7160 - accuracy: 0.7300\n",
      "Epoch 4/10\n",
      "610/610 [==============================] - 222s 364ms/step - loss: 0.6730 - accuracy: 0.7481\n",
      "Epoch 5/10\n",
      "610/610 [==============================] - 222s 364ms/step - loss: 0.6591 - accuracy: 0.7553\n",
      "Epoch 6/10\n",
      "610/610 [==============================] - 220s 360ms/step - loss: 0.6183 - accuracy: 0.7689\n",
      "Epoch 7/10\n",
      "610/610 [==============================] - 222s 364ms/step - loss: 0.5873 - accuracy: 0.7874\n",
      "Epoch 8/10\n",
      "610/610 [==============================] - 222s 364ms/step - loss: 0.5684 - accuracy: 0.7938\n",
      "Epoch 9/10\n",
      "610/610 [==============================] - 222s 363ms/step - loss: 0.5372 - accuracy: 0.7968\n",
      "Epoch 10/10\n",
      "610/610 [==============================] - 223s 366ms/step - loss: 0.5233 - accuracy: 0.8055\n"
     ]
    },
    {
     "data": {
      "text/plain": [
       "<keras.callbacks.History at 0x2f1c5bbe0>"
      ]
     },
     "execution_count": 84,
     "metadata": {},
     "output_type": "execute_result"
    }
   ],
   "source": [
    "cnn.fit(training_set_list[2], epochs = 10)"
   ]
  },
  {
   "cell_type": "code",
   "execution_count": 85,
   "metadata": {},
   "outputs": [
    {
     "name": "stdout",
     "output_type": "stream",
     "text": [
      "Epoch 1/10\n",
      "607/607 [==============================] - 223s 367ms/step - loss: 0.8845 - accuracy: 0.6688\n",
      "Epoch 2/10\n",
      "607/607 [==============================] - 223s 367ms/step - loss: 0.7574 - accuracy: 0.7088\n",
      "Epoch 3/10\n",
      "607/607 [==============================] - 223s 367ms/step - loss: 0.7018 - accuracy: 0.7322\n",
      "Epoch 4/10\n",
      "607/607 [==============================] - 223s 367ms/step - loss: 0.6818 - accuracy: 0.7406\n",
      "Epoch 5/10\n",
      "607/607 [==============================] - 223s 367ms/step - loss: 0.6815 - accuracy: 0.7432\n",
      "Epoch 6/10\n",
      "607/607 [==============================] - 223s 368ms/step - loss: 0.6291 - accuracy: 0.7569\n",
      "Epoch 7/10\n",
      "607/607 [==============================] - 223s 367ms/step - loss: 0.6131 - accuracy: 0.7746\n",
      "Epoch 8/10\n",
      "607/607 [==============================] - 223s 368ms/step - loss: 0.5815 - accuracy: 0.7842\n",
      "Epoch 9/10\n",
      "607/607 [==============================] - 223s 367ms/step - loss: 0.5651 - accuracy: 0.7932\n",
      "Epoch 10/10\n",
      "607/607 [==============================] - 223s 368ms/step - loss: 0.5354 - accuracy: 0.8007\n"
     ]
    },
    {
     "data": {
      "text/plain": [
       "<keras.callbacks.History at 0x2f1c5ebb0>"
      ]
     },
     "execution_count": 85,
     "metadata": {},
     "output_type": "execute_result"
    }
   ],
   "source": [
    "cnn.fit(training_set_list[3], epochs = 10)"
   ]
  },
  {
   "cell_type": "code",
   "execution_count": 86,
   "metadata": {},
   "outputs": [
    {
     "name": "stdout",
     "output_type": "stream",
     "text": [
      "Epoch 1/10\n",
      "608/608 [==============================] - 224s 368ms/step - loss: 0.8319 - accuracy: 0.6887\n",
      "Epoch 2/10\n",
      "608/608 [==============================] - 224s 369ms/step - loss: 0.7462 - accuracy: 0.7207\n",
      "Epoch 3/10\n",
      "608/608 [==============================] - 224s 368ms/step - loss: 0.6965 - accuracy: 0.7393\n",
      "Epoch 4/10\n",
      "608/608 [==============================] - 224s 368ms/step - loss: 0.6672 - accuracy: 0.7501\n",
      "Epoch 5/10\n",
      "608/608 [==============================] - 224s 369ms/step - loss: 0.6157 - accuracy: 0.7708\n",
      "Epoch 6/10\n",
      "608/608 [==============================] - 224s 368ms/step - loss: 0.5853 - accuracy: 0.7791\n",
      "Epoch 7/10\n",
      "608/608 [==============================] - 224s 368ms/step - loss: 0.5630 - accuracy: 0.7979\n",
      "Epoch 8/10\n",
      "608/608 [==============================] - 224s 368ms/step - loss: 0.5420 - accuracy: 0.7967\n",
      "Epoch 9/10\n",
      "608/608 [==============================] - 224s 368ms/step - loss: 0.5419 - accuracy: 0.8005\n",
      "Epoch 10/10\n",
      "608/608 [==============================] - 224s 368ms/step - loss: 0.5039 - accuracy: 0.8174\n"
     ]
    },
    {
     "data": {
      "text/plain": [
       "<keras.callbacks.History at 0x2f1c79ca0>"
      ]
     },
     "execution_count": 86,
     "metadata": {},
     "output_type": "execute_result"
    }
   ],
   "source": [
    "cnn.fit(training_set_list[4], epochs = 10)"
   ]
  },
  {
   "cell_type": "markdown",
   "metadata": {},
   "source": [
    "## Saving and loading the model"
   ]
  },
  {
   "cell_type": "code",
   "execution_count": 87,
   "metadata": {},
   "outputs": [],
   "source": [
    "model_json = cnn.to_json()\n",
    "with open('seventhAI/faceFeelingAI7_56.json', 'w') as json_file:\n",
    "    json_file.write(model_json)"
   ]
  },
  {
   "cell_type": "code",
   "execution_count": 88,
   "metadata": {},
   "outputs": [],
   "source": [
    "from keras.models import save_model\n",
    "network_saved = save_model(cnn, 'seventhAI/weights7_56.hdf5')"
   ]
  },
  {
   "cell_type": "markdown",
   "metadata": {},
   "source": [
    "### Load model"
   ]
  },
  {
   "cell_type": "code",
   "execution_count": 89,
   "metadata": {
    "scrolled": true
   },
   "outputs": [
    {
     "data": {
      "text/plain": [
       "'{\"class_name\": \"Sequential\", \"config\": {\"name\": \"sequential\", \"layers\": [{\"class_name\": \"InputLayer\", \"config\": {\"batch_input_shape\": [null, 64, 64, 3], \"dtype\": \"float32\", \"sparse\": false, \"ragged\": false, \"name\": \"conv2d_input\"}}, {\"class_name\": \"Conv2D\", \"config\": {\"name\": \"conv2d\", \"trainable\": true, \"dtype\": \"float32\", \"batch_input_shape\": [null, 64, 64, 3], \"filters\": 32, \"kernel_size\": [3, 3], \"strides\": [1, 1], \"padding\": \"valid\", \"data_format\": \"channels_last\", \"dilation_rate\": [1, 1], \"groups\": 1, \"activation\": \"relu\", \"use_bias\": true, \"kernel_initializer\": {\"class_name\": \"GlorotUniform\", \"config\": {\"seed\": null}}, \"bias_initializer\": {\"class_name\": \"Zeros\", \"config\": {}}, \"kernel_regularizer\": null, \"bias_regularizer\": null, \"activity_regularizer\": null, \"kernel_constraint\": null, \"bias_constraint\": null}}, {\"class_name\": \"BatchNormalization\", \"config\": {\"name\": \"batch_normalization\", \"trainable\": true, \"dtype\": \"float32\", \"axis\": [3], \"momentum\": 0.99, \"epsilon\": 0.001, \"center\": true, \"scale\": true, \"beta_initializer\": {\"class_name\": \"Zeros\", \"config\": {}}, \"gamma_initializer\": {\"class_name\": \"Ones\", \"config\": {}}, \"moving_mean_initializer\": {\"class_name\": \"Zeros\", \"config\": {}}, \"moving_variance_initializer\": {\"class_name\": \"Ones\", \"config\": {}}, \"beta_regularizer\": null, \"gamma_regularizer\": null, \"beta_constraint\": null, \"gamma_constraint\": null}}, {\"class_name\": \"Conv2D\", \"config\": {\"name\": \"conv2d_1\", \"trainable\": true, \"dtype\": \"float32\", \"filters\": 32, \"kernel_size\": [3, 3], \"strides\": [1, 1], \"padding\": \"valid\", \"data_format\": \"channels_last\", \"dilation_rate\": [1, 1], \"groups\": 1, \"activation\": \"relu\", \"use_bias\": true, \"kernel_initializer\": {\"class_name\": \"GlorotUniform\", \"config\": {\"seed\": null}}, \"bias_initializer\": {\"class_name\": \"Zeros\", \"config\": {}}, \"kernel_regularizer\": null, \"bias_regularizer\": null, \"activity_regularizer\": null, \"kernel_constraint\": null, \"bias_constraint\": null}}, {\"class_name\": \"BatchNormalization\", \"config\": {\"name\": \"batch_normalization_1\", \"trainable\": true, \"dtype\": \"float32\", \"axis\": [3], \"momentum\": 0.99, \"epsilon\": 0.001, \"center\": true, \"scale\": true, \"beta_initializer\": {\"class_name\": \"Zeros\", \"config\": {}}, \"gamma_initializer\": {\"class_name\": \"Ones\", \"config\": {}}, \"moving_mean_initializer\": {\"class_name\": \"Zeros\", \"config\": {}}, \"moving_variance_initializer\": {\"class_name\": \"Ones\", \"config\": {}}, \"beta_regularizer\": null, \"gamma_regularizer\": null, \"beta_constraint\": null, \"gamma_constraint\": null}}, {\"class_name\": \"MaxPooling2D\", \"config\": {\"name\": \"max_pooling2d\", \"trainable\": true, \"dtype\": \"float32\", \"pool_size\": [2, 2], \"padding\": \"valid\", \"strides\": [2, 2], \"data_format\": \"channels_last\"}}, {\"class_name\": \"Conv2D\", \"config\": {\"name\": \"conv2d_2\", \"trainable\": true, \"dtype\": \"float32\", \"filters\": 64, \"kernel_size\": [3, 3], \"strides\": [1, 1], \"padding\": \"valid\", \"data_format\": \"channels_last\", \"dilation_rate\": [1, 1], \"groups\": 1, \"activation\": \"relu\", \"use_bias\": true, \"kernel_initializer\": {\"class_name\": \"GlorotUniform\", \"config\": {\"seed\": null}}, \"bias_initializer\": {\"class_name\": \"Zeros\", \"config\": {}}, \"kernel_regularizer\": null, \"bias_regularizer\": null, \"activity_regularizer\": null, \"kernel_constraint\": null, \"bias_constraint\": null}}, {\"class_name\": \"BatchNormalization\", \"config\": {\"name\": \"batch_normalization_2\", \"trainable\": true, \"dtype\": \"float32\", \"axis\": [3], \"momentum\": 0.99, \"epsilon\": 0.001, \"center\": true, \"scale\": true, \"beta_initializer\": {\"class_name\": \"Zeros\", \"config\": {}}, \"gamma_initializer\": {\"class_name\": \"Ones\", \"config\": {}}, \"moving_mean_initializer\": {\"class_name\": \"Zeros\", \"config\": {}}, \"moving_variance_initializer\": {\"class_name\": \"Ones\", \"config\": {}}, \"beta_regularizer\": null, \"gamma_regularizer\": null, \"beta_constraint\": null, \"gamma_constraint\": null}}, {\"class_name\": \"Conv2D\", \"config\": {\"name\": \"conv2d_3\", \"trainable\": true, \"dtype\": \"float32\", \"filters\": 64, \"kernel_size\": [3, 3], \"strides\": [1, 1], \"padding\": \"valid\", \"data_format\": \"channels_last\", \"dilation_rate\": [1, 1], \"groups\": 1, \"activation\": \"relu\", \"use_bias\": true, \"kernel_initializer\": {\"class_name\": \"GlorotUniform\", \"config\": {\"seed\": null}}, \"bias_initializer\": {\"class_name\": \"Zeros\", \"config\": {}}, \"kernel_regularizer\": null, \"bias_regularizer\": null, \"activity_regularizer\": null, \"kernel_constraint\": null, \"bias_constraint\": null}}, {\"class_name\": \"BatchNormalization\", \"config\": {\"name\": \"batch_normalization_3\", \"trainable\": true, \"dtype\": \"float32\", \"axis\": [3], \"momentum\": 0.99, \"epsilon\": 0.001, \"center\": true, \"scale\": true, \"beta_initializer\": {\"class_name\": \"Zeros\", \"config\": {}}, \"gamma_initializer\": {\"class_name\": \"Ones\", \"config\": {}}, \"moving_mean_initializer\": {\"class_name\": \"Zeros\", \"config\": {}}, \"moving_variance_initializer\": {\"class_name\": \"Ones\", \"config\": {}}, \"beta_regularizer\": null, \"gamma_regularizer\": null, \"beta_constraint\": null, \"gamma_constraint\": null}}, {\"class_name\": \"MaxPooling2D\", \"config\": {\"name\": \"max_pooling2d_1\", \"trainable\": true, \"dtype\": \"float32\", \"pool_size\": [2, 2], \"padding\": \"valid\", \"strides\": [2, 2], \"data_format\": \"channels_last\"}}, {\"class_name\": \"Conv2D\", \"config\": {\"name\": \"conv2d_4\", \"trainable\": true, \"dtype\": \"float32\", \"filters\": 128, \"kernel_size\": [3, 3], \"strides\": [1, 1], \"padding\": \"valid\", \"data_format\": \"channels_last\", \"dilation_rate\": [1, 1], \"groups\": 1, \"activation\": \"relu\", \"use_bias\": true, \"kernel_initializer\": {\"class_name\": \"GlorotUniform\", \"config\": {\"seed\": null}}, \"bias_initializer\": {\"class_name\": \"Zeros\", \"config\": {}}, \"kernel_regularizer\": null, \"bias_regularizer\": null, \"activity_regularizer\": null, \"kernel_constraint\": null, \"bias_constraint\": null}}, {\"class_name\": \"BatchNormalization\", \"config\": {\"name\": \"batch_normalization_4\", \"trainable\": true, \"dtype\": \"float32\", \"axis\": [3], \"momentum\": 0.99, \"epsilon\": 0.001, \"center\": true, \"scale\": true, \"beta_initializer\": {\"class_name\": \"Zeros\", \"config\": {}}, \"gamma_initializer\": {\"class_name\": \"Ones\", \"config\": {}}, \"moving_mean_initializer\": {\"class_name\": \"Zeros\", \"config\": {}}, \"moving_variance_initializer\": {\"class_name\": \"Ones\", \"config\": {}}, \"beta_regularizer\": null, \"gamma_regularizer\": null, \"beta_constraint\": null, \"gamma_constraint\": null}}, {\"class_name\": \"Conv2D\", \"config\": {\"name\": \"conv2d_5\", \"trainable\": true, \"dtype\": \"float32\", \"filters\": 128, \"kernel_size\": [3, 3], \"strides\": [1, 1], \"padding\": \"valid\", \"data_format\": \"channels_last\", \"dilation_rate\": [1, 1], \"groups\": 1, \"activation\": \"relu\", \"use_bias\": true, \"kernel_initializer\": {\"class_name\": \"GlorotUniform\", \"config\": {\"seed\": null}}, \"bias_initializer\": {\"class_name\": \"Zeros\", \"config\": {}}, \"kernel_regularizer\": null, \"bias_regularizer\": null, \"activity_regularizer\": null, \"kernel_constraint\": null, \"bias_constraint\": null}}, {\"class_name\": \"BatchNormalization\", \"config\": {\"name\": \"batch_normalization_5\", \"trainable\": true, \"dtype\": \"float32\", \"axis\": [3], \"momentum\": 0.99, \"epsilon\": 0.001, \"center\": true, \"scale\": true, \"beta_initializer\": {\"class_name\": \"Zeros\", \"config\": {}}, \"gamma_initializer\": {\"class_name\": \"Ones\", \"config\": {}}, \"moving_mean_initializer\": {\"class_name\": \"Zeros\", \"config\": {}}, \"moving_variance_initializer\": {\"class_name\": \"Ones\", \"config\": {}}, \"beta_regularizer\": null, \"gamma_regularizer\": null, \"beta_constraint\": null, \"gamma_constraint\": null}}, {\"class_name\": \"MaxPooling2D\", \"config\": {\"name\": \"max_pooling2d_2\", \"trainable\": true, \"dtype\": \"float32\", \"pool_size\": [2, 2], \"padding\": \"valid\", \"strides\": [2, 2], \"data_format\": \"channels_last\"}}, {\"class_name\": \"Flatten\", \"config\": {\"name\": \"flatten\", \"trainable\": true, \"dtype\": \"float32\", \"data_format\": \"channels_last\"}}, {\"class_name\": \"Dense\", \"config\": {\"name\": \"dense\", \"trainable\": true, \"dtype\": \"float32\", \"units\": 64, \"activation\": \"relu\", \"use_bias\": true, \"kernel_initializer\": {\"class_name\": \"GlorotUniform\", \"config\": {\"seed\": null}}, \"bias_initializer\": {\"class_name\": \"Zeros\", \"config\": {}}, \"kernel_regularizer\": null, \"bias_regularizer\": null, \"activity_regularizer\": null, \"kernel_constraint\": null, \"bias_constraint\": null}}, {\"class_name\": \"BatchNormalization\", \"config\": {\"name\": \"batch_normalization_6\", \"trainable\": true, \"dtype\": \"float32\", \"axis\": [1], \"momentum\": 0.99, \"epsilon\": 0.001, \"center\": true, \"scale\": true, \"beta_initializer\": {\"class_name\": \"Zeros\", \"config\": {}}, \"gamma_initializer\": {\"class_name\": \"Ones\", \"config\": {}}, \"moving_mean_initializer\": {\"class_name\": \"Zeros\", \"config\": {}}, \"moving_variance_initializer\": {\"class_name\": \"Ones\", \"config\": {}}, \"beta_regularizer\": null, \"gamma_regularizer\": null, \"beta_constraint\": null, \"gamma_constraint\": null}}, {\"class_name\": \"Dense\", \"config\": {\"name\": \"dense_1\", \"trainable\": true, \"dtype\": \"float32\", \"units\": 64, \"activation\": \"relu\", \"use_bias\": true, \"kernel_initializer\": {\"class_name\": \"GlorotUniform\", \"config\": {\"seed\": null}}, \"bias_initializer\": {\"class_name\": \"Zeros\", \"config\": {}}, \"kernel_regularizer\": null, \"bias_regularizer\": null, \"activity_regularizer\": null, \"kernel_constraint\": null, \"bias_constraint\": null}}, {\"class_name\": \"BatchNormalization\", \"config\": {\"name\": \"batch_normalization_7\", \"trainable\": true, \"dtype\": \"float32\", \"axis\": [1], \"momentum\": 0.99, \"epsilon\": 0.001, \"center\": true, \"scale\": true, \"beta_initializer\": {\"class_name\": \"Zeros\", \"config\": {}}, \"gamma_initializer\": {\"class_name\": \"Ones\", \"config\": {}}, \"moving_mean_initializer\": {\"class_name\": \"Zeros\", \"config\": {}}, \"moving_variance_initializer\": {\"class_name\": \"Ones\", \"config\": {}}, \"beta_regularizer\": null, \"gamma_regularizer\": null, \"beta_constraint\": null, \"gamma_constraint\": null}}, {\"class_name\": \"Dense\", \"config\": {\"name\": \"dense_2\", \"trainable\": true, \"dtype\": \"float32\", \"units\": 5, \"activation\": \"softmax\", \"use_bias\": true, \"kernel_initializer\": {\"class_name\": \"GlorotUniform\", \"config\": {\"seed\": null}}, \"bias_initializer\": {\"class_name\": \"Zeros\", \"config\": {}}, \"kernel_regularizer\": null, \"bias_regularizer\": null, \"activity_regularizer\": null, \"kernel_constraint\": null, \"bias_constraint\": null}}]}, \"keras_version\": \"2.12.0\", \"backend\": \"tensorflow\"}'"
      ]
     },
     "execution_count": 89,
     "metadata": {},
     "output_type": "execute_result"
    }
   ],
   "source": [
    "with open('seventhAI/faceFeelingAI7_56.json', 'r') as json_file:\n",
    "    json_saved_model = json_file.read()\n",
    "# json_saved_model"
   ]
  },
  {
   "cell_type": "code",
   "execution_count": 90,
   "metadata": {},
   "outputs": [],
   "source": [
    "network_loaded = tf.keras.models.model_from_json(json_saved_model)\n",
    "network_loaded.load_weights('seventhAI/weights7_56.hdf5')\n",
    "network_loaded.compile(loss='categorical_crossentropy', optimizer='Adam', metrics=['accuracy'])"
   ]
  },
  {
   "cell_type": "code",
   "execution_count": 91,
   "metadata": {
    "collapsed": true
   },
   "outputs": [
    {
     "name": "stdout",
     "output_type": "stream",
     "text": [
      "Model: \"sequential\"\n",
      "_________________________________________________________________\n",
      " Layer (type)                Output Shape              Param #   \n",
      "=================================================================\n",
      " conv2d (Conv2D)             (None, 62, 62, 32)        896       \n",
      "                                                                 \n",
      " batch_normalization (BatchN  (None, 62, 62, 32)       128       \n",
      " ormalization)                                                   \n",
      "                                                                 \n",
      " conv2d_1 (Conv2D)           (None, 60, 60, 32)        9248      \n",
      "                                                                 \n",
      " batch_normalization_1 (Batc  (None, 60, 60, 32)       128       \n",
      " hNormalization)                                                 \n",
      "                                                                 \n",
      " max_pooling2d (MaxPooling2D  (None, 30, 30, 32)       0         \n",
      " )                                                               \n",
      "                                                                 \n",
      " conv2d_2 (Conv2D)           (None, 28, 28, 64)        18496     \n",
      "                                                                 \n",
      " batch_normalization_2 (Batc  (None, 28, 28, 64)       256       \n",
      " hNormalization)                                                 \n",
      "                                                                 \n",
      " conv2d_3 (Conv2D)           (None, 26, 26, 64)        36928     \n",
      "                                                                 \n",
      " batch_normalization_3 (Batc  (None, 26, 26, 64)       256       \n",
      " hNormalization)                                                 \n",
      "                                                                 \n",
      " max_pooling2d_1 (MaxPooling  (None, 13, 13, 64)       0         \n",
      " 2D)                                                             \n",
      "                                                                 \n",
      " conv2d_4 (Conv2D)           (None, 11, 11, 128)       73856     \n",
      "                                                                 \n",
      " batch_normalization_4 (Batc  (None, 11, 11, 128)      512       \n",
      " hNormalization)                                                 \n",
      "                                                                 \n",
      " conv2d_5 (Conv2D)           (None, 9, 9, 128)         147584    \n",
      "                                                                 \n",
      " batch_normalization_5 (Batc  (None, 9, 9, 128)        512       \n",
      " hNormalization)                                                 \n",
      "                                                                 \n",
      " max_pooling2d_2 (MaxPooling  (None, 4, 4, 128)        0         \n",
      " 2D)                                                             \n",
      "                                                                 \n",
      " flatten (Flatten)           (None, 2048)              0         \n",
      "                                                                 \n",
      " dense (Dense)               (None, 64)                131136    \n",
      "                                                                 \n",
      " batch_normalization_6 (Batc  (None, 64)               256       \n",
      " hNormalization)                                                 \n",
      "                                                                 \n",
      " dense_1 (Dense)             (None, 64)                4160      \n",
      "                                                                 \n",
      " batch_normalization_7 (Batc  (None, 64)               256       \n",
      " hNormalization)                                                 \n",
      "                                                                 \n",
      " dense_2 (Dense)             (None, 5)                 325       \n",
      "                                                                 \n",
      "=================================================================\n",
      "Total params: 424,933\n",
      "Trainable params: 423,781\n",
      "Non-trainable params: 1,152\n",
      "_________________________________________________________________\n"
     ]
    }
   ],
   "source": [
    "network_loaded.summary()"
   ]
  },
  {
   "cell_type": "markdown",
   "metadata": {},
   "source": [
    "## Evaluating the neural network"
   ]
  },
  {
   "cell_type": "markdown",
   "metadata": {},
   "source": [
    "### sixthAI"
   ]
  },
  {
   "cell_type": "code",
   "execution_count": null,
   "metadata": {},
   "outputs": [],
   "source": [
    "network_loaded.evaluate(test_set)"
   ]
  },
  {
   "cell_type": "markdown",
   "metadata": {},
   "source": [
    "56% 정확도"
   ]
  },
  {
   "cell_type": "code",
   "execution_count": 92,
   "metadata": {},
   "outputs": [
    {
     "name": "stdout",
     "output_type": "stream",
     "text": [
      "4000/4000 [==============================] - 212s 53ms/step\n"
     ]
    },
    {
     "data": {
      "text/plain": [
       "array([[9.77074564e-01, 1.57284189e-03, 2.78651059e-05, 3.83859361e-03,\n",
       "        1.74861252e-02],\n",
       "       [8.27148616e-01, 7.03807091e-05, 6.00560680e-02, 1.03166118e-01,\n",
       "        9.55882668e-03],\n",
       "       [9.98303890e-01, 7.11582034e-05, 2.76111707e-04, 9.20651073e-04,\n",
       "        4.28174360e-04],\n",
       "       ...,\n",
       "       [1.09631708e-06, 1.45320356e-01, 3.32101434e-02, 9.77207255e-03,\n",
       "        8.11696351e-01],\n",
       "       [5.62858884e-04, 7.52903000e-02, 3.49852033e-02, 4.58054960e-01,\n",
       "        4.31106687e-01],\n",
       "       [6.17757053e-07, 1.25808390e-02, 1.19464576e-01, 8.09133887e-01,\n",
       "        5.88201769e-02]], dtype=float32)"
      ]
     },
     "execution_count": 92,
     "metadata": {},
     "output_type": "execute_result"
    }
   ],
   "source": [
    "predictions = network_loaded.predict(test_set)\n",
    "predictions"
   ]
  },
  {
   "cell_type": "code",
   "execution_count": 93,
   "metadata": {},
   "outputs": [
    {
     "data": {
      "text/plain": [
       "array([0, 0, 0, ..., 4, 3, 3])"
      ]
     },
     "execution_count": 93,
     "metadata": {},
     "output_type": "execute_result"
    }
   ],
   "source": [
    "predictions = np.argmax(predictions, axis=1)\n",
    "predictions"
   ]
  },
  {
   "cell_type": "code",
   "execution_count": 94,
   "metadata": {
    "scrolled": true
   },
   "outputs": [
    {
     "data": {
      "text/plain": [
       "array([0, 0, 0, ..., 4, 4, 4], dtype=int32)"
      ]
     },
     "execution_count": 94,
     "metadata": {},
     "output_type": "execute_result"
    }
   ],
   "source": [
    "test_set.classes"
   ]
  },
  {
   "cell_type": "code",
   "execution_count": 95,
   "metadata": {},
   "outputs": [
    {
     "data": {
      "text/plain": [
       "0.5655"
      ]
     },
     "execution_count": 95,
     "metadata": {},
     "output_type": "execute_result"
    }
   ],
   "source": [
    "from sklearn.metrics import accuracy_score\n",
    "accuracy_score(test_set.classes, predictions)"
   ]
  },
  {
   "cell_type": "code",
   "execution_count": 96,
   "metadata": {},
   "outputs": [
    {
     "data": {
      "text/plain": [
       "{'기쁨': 0, '당황': 1, '분노': 2, '슬픔': 3, '중립': 4}"
      ]
     },
     "execution_count": 96,
     "metadata": {},
     "output_type": "execute_result"
    }
   ],
   "source": [
    "test_set.class_indices"
   ]
  },
  {
   "cell_type": "code",
   "execution_count": 97,
   "metadata": {
    "scrolled": true
   },
   "outputs": [
    {
     "data": {
      "text/plain": [
       "array([[665,  20,  36,  50,  29],\n",
       "       [ 39, 437,  82, 106, 136],\n",
       "       [ 85,  94, 370, 121, 130],\n",
       "       [ 73,  75, 121, 311, 220],\n",
       "       [ 33,  57,  92, 139, 479]])"
      ]
     },
     "execution_count": 97,
     "metadata": {},
     "output_type": "execute_result"
    }
   ],
   "source": [
    "from sklearn.metrics import confusion_matrix\n",
    "cm = confusion_matrix(test_set.classes, predictions)\n",
    "cm"
   ]
  },
  {
   "cell_type": "code",
   "execution_count": 98,
   "metadata": {},
   "outputs": [],
   "source": [
    "import matplotlib.pyplot as plt\n",
    "plt.rcParams['font.family'] = 'AppleGothic'"
   ]
  },
  {
   "cell_type": "code",
   "execution_count": 100,
   "metadata": {},
   "outputs": [
    {
     "data": {
      "image/png": "[encoded data removed]",
      "text/plain": [
       "<Figure size 640x480 with 2 Axes>"
      ]
     },
     "metadata": {},
     "output_type": "display_data"
    }
   ],
   "source": [
    "import seaborn as sns\n",
    "\n",
    "sns.heatmap(cm, annot=True, xticklabels=['기쁨', '당황', '분노', '슬픔', '중립'], yticklabels=['기쁨', '당황', '분노', '슬픔', '중립'], cmap=\"Reds\")\n",
    "plt.title('예측 결과 (총 정확도 : 57%)')\n",
    "plt.xlabel('예측된 감정')\n",
    "plt.ylabel('실제 감정')\n",
    "plt.show()"
   ]
  },
  {
   "cell_type": "code",
   "execution_count": null,
   "metadata": {},
   "outputs": [],
   "source": [
    "import seaborn as sns\n",
    "\n",
    "sns.heatmap(cm, annot=True)"
   ]
  },
  {
   "cell_type": "code",
   "execution_count": 101,
   "metadata": {},
   "outputs": [
    {
     "name": "stdout",
     "output_type": "stream",
     "text": [
      "(array([0, 1, 2, 3, 4], dtype=int32), array([800, 800, 800, 800, 800]))\n"
     ]
    }
   ],
   "source": [
    "print(np.unique(test_set.classes, return_counts=True))"
   ]
  },
  {
   "cell_type": "code",
   "execution_count": 102,
   "metadata": {},
   "outputs": [
    {
     "name": "stdout",
     "output_type": "stream",
     "text": [
      "              precision    recall  f1-score   support\n",
      "\n",
      "           0       0.74      0.83      0.78       800\n",
      "           1       0.64      0.55      0.59       800\n",
      "           2       0.53      0.46      0.49       800\n",
      "           3       0.43      0.39      0.41       800\n",
      "           4       0.48      0.60      0.53       800\n",
      "\n",
      "    accuracy                           0.57      4000\n",
      "   macro avg       0.56      0.57      0.56      4000\n",
      "weighted avg       0.56      0.57      0.56      4000\n",
      "\n"
     ]
    }
   ],
   "source": [
    "from sklearn.metrics import classification_report\n",
    "print(classification_report(test_set.classes, predictions))"
   ]
  }
 ],
 "metadata": {
  "accelerator": "GPU",
  "colab": {
   "provenance": []
  },
  "gpuClass": "standard",
  "kernelspec": {
   "display_name": "Python 3 (ipykernel)",
   "language": "python",
   "name": "python3"
  },
  "language_info": {
   "codemirror_mode": {
    "name": "ipython",
    "version": 3
   },
   "file_extension": ".py",
   "mimetype": "text/x-python",
   "name": "python",
   "nbconvert_exporter": "python",
   "pygments_lexer": "ipython3",
   "version": "3.8.16"
  }
 },
 "nbformat": 4,
 "nbformat_minor": 1
}
